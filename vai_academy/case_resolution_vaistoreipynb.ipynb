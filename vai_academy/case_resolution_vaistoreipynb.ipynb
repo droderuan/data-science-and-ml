{
  "nbformat": 4,
  "nbformat_minor": 0,
  "metadata": {
    "colab": {
      "name": "case_resolution_vaistoreipynb",
      "provenance": [],
      "collapsed_sections": [],
      "mount_file_id": "1S58t6CdyEpAcpstaC-GrxPl-muBl0SDh",
      "authorship_tag": "ABX9TyOyRNTIxHD1WjNZXfmT8WeS",
      "include_colab_link": true
    },
    "kernelspec": {
      "name": "python3",
      "display_name": "Python 3"
    },
    "language_info": {
      "name": "python"
    }
  },
  "cells": [
    {
      "cell_type": "markdown",
      "metadata": {
        "id": "view-in-github",
        "colab_type": "text"
      },
      "source": [
        "<a href=\"https://colab.research.google.com/github/droderuan/data-science-and-ml/blob/main/vai_academy/case_resolution_vaistoreipynb.ipynb\" target=\"_parent\"><img src=\"https://colab.research.google.com/assets/colab-badge.svg\" alt=\"Open In Colab\"/></a>"
      ]
    },
    {
      "cell_type": "markdown",
      "metadata": {
        "id": "O_tf5RzQGRCE"
      },
      "source": [
        "# Resolução do case Vai Store\n",
        "##### Curso Vai Academy\n",
        "#### Realizado por: Ruan Ferreira\n",
        "#### Data: 27/05/2021\n"
      ]
    },
    {
      "cell_type": "markdown",
      "metadata": {
        "id": "cz-nGhy-HEJk"
      },
      "source": [
        "### Panorama \n",
        "\n",
        "A área responsável pelo crescimento da empresa elaborou um plano para\n",
        "manter o e-commerce como um canal relevante e de rápido crescimento mesmo após\n",
        "a reabertura das lojas físicas. O plano criado consiste em 3 pilares: captar novos\n",
        "clientes, aumentar a recorrência de clientes atuais e melhorar a margem das vendas.\n",
        "\n",
        "Com os dados cedidos aos especialistas, espera-se que seja possível responder\n",
        "algumas dúvidas existentes na companhia e ajudar a estruturar um plano de ação com\n",
        "as três alavancas."
      ]
    },
    {
      "cell_type": "markdown",
      "metadata": {
        "id": "sg6C9kEWGSNK"
      },
      "source": [
        "![Screenshot from 2021-05-27 20-14-27.png](data:image/png;base64,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)"
      ]
    },
    {
      "cell_type": "code",
      "metadata": {
        "id": "eJLzpebIP_y6"
      },
      "source": [
        "import pandas as pd\n",
        "import numpy as np\n",
        "import sqlalchemy\n",
        "import matplotlib.pyplot as plt\n",
        "import matplotlib.dates as mdates\n",
        "import seaborn as sns\n",
        "from dateutil.relativedelta import relativedelta"
      ],
      "execution_count": null,
      "outputs": []
    },
    {
      "cell_type": "code",
      "metadata": {
        "id": "slauuy8XQDNl"
      },
      "source": [
        "filesDir = '/content/drive/MyDrive/Colab Notebooks/vai_academy/módulo 03/case/Dados'"
      ],
      "execution_count": null,
      "outputs": []
    },
    {
      "cell_type": "code",
      "metadata": {
        "id": "t2eYCc-9QWI3"
      },
      "source": [
        "clientOrigin = pd.read_csv(filesDir+'/ORIGEM_TRAFEGO.csv', sep=';', names=['pedido_erp', 'canal'], header=0)\n",
        "\n",
        "mediaCosts = pd.read_excel(filesDir+'/Gasto com Mídia.xlsx', names=['date', 'facebook_ads', 'google_ads'])\n",
        "mediaCosts['date'] = pd.to_datetime(mediaCosts['date'], format='%Y-%m-%d')\n",
        "\n",
        "engine_str = f'sqlite:///{filesDir}/vaistore.sqlite'\n",
        "engine = sqlalchemy.create_engine(engine_str)"
      ],
      "execution_count": null,
      "outputs": []
    },
    {
      "cell_type": "code",
      "metadata": {
        "id": "3xHIdUKLfIRg"
      },
      "source": [
        "connection = engine.connect()\n",
        "\n",
        "ordersToFetch = connection.execute('SELECT * FROM pedidos')\n",
        "ordersResult = ordersToFetch.fetchall()\n",
        "\n",
        "orders = pd.DataFrame(ordersResult)\n",
        "orders.columns = [key.lower() for key in ordersToFetch.keys()]\n",
        "orders['data_venda'] = pd.to_datetime(orders['data_venda'])\n",
        "orders.sort_values('data_venda', inplace=True)\n",
        "\n",
        "productInfoToFetch = connection.execute('SELECT * FROM info_produto')\n",
        "productsInfoResult = productInfoToFetch.fetchall()\n",
        "\n",
        "productsInfo = pd.DataFrame(productsInfoResult)\n",
        "productsInfo.columns = [key.lower() for key in  productInfoToFetch.keys()]\n",
        "\n",
        "connection.close()"
      ],
      "execution_count": null,
      "outputs": []
    },
    {
      "cell_type": "markdown",
      "metadata": {
        "id": "Y600uIdYRHL-"
      },
      "source": [
        "> Com os arquivos fonecidos já importados, começarei a tratar de verificar as informações a fim de responder as perguntas e validar as hipóteses. Irei separar cada ponto a ser respondido e seguinte a célula, a análise."
      ]
    },
    {
      "cell_type": "markdown",
      "metadata": {
        "id": "QnEg66vkFxDY"
      },
      "source": [
        "### VISÃO GERAL\n",
        "* Foi percebido um aumento substancial das vendas no e-commerce no\n",
        "segundo trimestre de 2020. Analise a evolução do faturamento ao longo\n",
        "dos meses.\n"
      ]
    },
    {
      "cell_type": "code",
      "metadata": {
        "colab": {
          "base_uri": "https://localhost:8080/",
          "height": 197
        },
        "id": "zbZd8Q4Sj59p",
        "outputId": "9caa621e-655f-486f-d2f2-91ed6440a148"
      },
      "source": [
        "orders.head()"
      ],
      "execution_count": null,
      "outputs": [
        {
          "output_type": "execute_result",
          "data": {
            "text/html": [
              "<div>\n",
              "<style scoped>\n",
              "    .dataframe tbody tr th:only-of-type {\n",
              "        vertical-align: middle;\n",
              "    }\n",
              "\n",
              "    .dataframe tbody tr th {\n",
              "        vertical-align: top;\n",
              "    }\n",
              "\n",
              "    .dataframe thead th {\n",
              "        text-align: right;\n",
              "    }\n",
              "</style>\n",
              "<table border=\"1\" class=\"dataframe\">\n",
              "  <thead>\n",
              "    <tr style=\"text-align: right;\">\n",
              "      <th></th>\n",
              "      <th>data_venda</th>\n",
              "      <th>pedido</th>\n",
              "      <th>pedido_erp</th>\n",
              "      <th>cod_cliente</th>\n",
              "      <th>produto</th>\n",
              "      <th>qtde</th>\n",
              "      <th>preco_unitario</th>\n",
              "      <th>desconto_item</th>\n",
              "      <th>frete_pago_cliente</th>\n",
              "      <th>receita</th>\n",
              "      <th>custo_frete</th>\n",
              "    </tr>\n",
              "  </thead>\n",
              "  <tbody>\n",
              "    <tr>\n",
              "      <th>0</th>\n",
              "      <td>2020-01-01</td>\n",
              "      <td>7000001</td>\n",
              "      <td>P10000123123</td>\n",
              "      <td>4040690</td>\n",
              "      <td>E10505Y</td>\n",
              "      <td>1</td>\n",
              "      <td>149.9</td>\n",
              "      <td>0.0</td>\n",
              "      <td>32.32</td>\n",
              "      <td>182.22</td>\n",
              "      <td>32.32</td>\n",
              "    </tr>\n",
              "    <tr>\n",
              "      <th>4063</th>\n",
              "      <td>2020-01-01</td>\n",
              "      <td>7000060</td>\n",
              "      <td>P10000123183</td>\n",
              "      <td>4102764</td>\n",
              "      <td>E10099Y</td>\n",
              "      <td>1</td>\n",
              "      <td>59.9</td>\n",
              "      <td>0.0</td>\n",
              "      <td>3.94</td>\n",
              "      <td>63.84</td>\n",
              "      <td>3.94</td>\n",
              "    </tr>\n",
              "    <tr>\n",
              "      <th>4064</th>\n",
              "      <td>2020-01-01</td>\n",
              "      <td>7000060</td>\n",
              "      <td>P10000123183</td>\n",
              "      <td>4102764</td>\n",
              "      <td>E10273Y</td>\n",
              "      <td>1</td>\n",
              "      <td>39.9</td>\n",
              "      <td>0.0</td>\n",
              "      <td>3.94</td>\n",
              "      <td>43.84</td>\n",
              "      <td>3.94</td>\n",
              "    </tr>\n",
              "    <tr>\n",
              "      <th>4065</th>\n",
              "      <td>2020-01-01</td>\n",
              "      <td>7000060</td>\n",
              "      <td>P10000123183</td>\n",
              "      <td>4102764</td>\n",
              "      <td>E10445Y</td>\n",
              "      <td>1</td>\n",
              "      <td>119.9</td>\n",
              "      <td>0.0</td>\n",
              "      <td>3.94</td>\n",
              "      <td>123.84</td>\n",
              "      <td>3.94</td>\n",
              "    </tr>\n",
              "    <tr>\n",
              "      <th>10448</th>\n",
              "      <td>2020-01-01</td>\n",
              "      <td>7000004</td>\n",
              "      <td>P10000123127</td>\n",
              "      <td>4020158</td>\n",
              "      <td>E10590Y</td>\n",
              "      <td>1</td>\n",
              "      <td>89.9</td>\n",
              "      <td>0.0</td>\n",
              "      <td>24.27</td>\n",
              "      <td>114.17</td>\n",
              "      <td>24.27</td>\n",
              "    </tr>\n",
              "  </tbody>\n",
              "</table>\n",
              "</div>"
            ],
            "text/plain": [
              "      data_venda   pedido  ... receita  custo_frete\n",
              "0     2020-01-01  7000001  ...  182.22        32.32\n",
              "4063  2020-01-01  7000060  ...   63.84         3.94\n",
              "4064  2020-01-01  7000060  ...   43.84         3.94\n",
              "4065  2020-01-01  7000060  ...  123.84         3.94\n",
              "10448 2020-01-01  7000004  ...  114.17        24.27\n",
              "\n",
              "[5 rows x 11 columns]"
            ]
          },
          "metadata": {
            "tags": []
          },
          "execution_count": 8
        }
      ]
    },
    {
      "cell_type": "code",
      "metadata": {
        "id": "laGLJK8okxEY"
      },
      "source": [
        "# adicionando colunas indicando o trimestre e o mês/ano\n",
        "def getTrimester(dateValue):\n",
        "  return f'{dateValue.quarter}/{dateValue.year}'\n",
        "  \n",
        "def getPeriod(dateValue):\n",
        "  return dateValue.strftime('%b/%Y')\n"
      ],
      "execution_count": null,
      "outputs": []
    },
    {
      "cell_type": "code",
      "metadata": {
        "id": "P5wuJKnH95lV"
      },
      "source": [
        "orders['trimestre'] = orders['data_venda'].apply(getTrimester)\n",
        "orders['periodo'] = orders['data_venda'].apply(getPeriod)"
      ],
      "execution_count": null,
      "outputs": []
    },
    {
      "cell_type": "code",
      "metadata": {
        "colab": {
          "base_uri": "https://localhost:8080/"
        },
        "id": "hA9fVHmfl4Zh",
        "outputId": "e46afd9e-33d2-4ac2-da8e-09da52cb4ee4"
      },
      "source": [
        "orders['periodo'].unique()"
      ],
      "execution_count": null,
      "outputs": [
        {
          "output_type": "execute_result",
          "data": {
            "text/plain": [
              "array(['Jan/2020', 'Feb/2020', 'Mar/2020', 'Apr/2020', 'May/2020',\n",
              "       'Jun/2020', 'Jul/2020', 'Aug/2020', 'Sep/2020', 'Oct/2020',\n",
              "       'Nov/2020', 'Dec/2020', 'Jan/2021', 'Feb/2021', 'Mar/2021'],\n",
              "      dtype=object)"
            ]
          },
          "metadata": {
            "tags": []
          },
          "execution_count": 11
        }
      ]
    },
    {
      "cell_type": "code",
      "metadata": {
        "colab": {
          "base_uri": "https://localhost:8080/",
          "height": 484
        },
        "id": "Bbta4xaj57bA",
        "outputId": "9da28ae9-a1ca-4350-9dc3-6cefc8a10923"
      },
      "source": [
        "plt.figure(figsize=(12,7)) \n",
        "plt.title('Quantidade de vendas por trimestre')\n",
        "orders.groupby('trimestre', sort=False)['receita'].count().plot(kind='bar')\n",
        "plt.show()"
      ],
      "execution_count": null,
      "outputs": [
        {
          "output_type": "display_data",
          "data": {
            "image/png": "[encoded data removed]",
            "text/plain": [
              "<Figure size 864x504 with 1 Axes>"
            ]
          },
          "metadata": {
            "tags": [],
            "needs_background": "light"
          }
        }
      ]
    },
    {
      "cell_type": "markdown",
      "metadata": {
        "id": "8vxBEDJYEqsC"
      },
      "source": [
        "#### 1.a Gráfico de vendas por trimestre"
      ]
    },
    {
      "cell_type": "code",
      "metadata": {
        "colab": {
          "base_uri": "https://localhost:8080/",
          "height": 497
        },
        "id": "eumYnvT_gU0s",
        "outputId": "98b29139-126c-437c-c4ad-a39867c57df2"
      },
      "source": [
        "plt.figure(figsize=(12,7)) \n",
        "plt.title('Quantidade de vendas por periodo')\n",
        "orders.groupby('periodo', sort=False)['receita'].count().plot(kind='bar')\n",
        "\n",
        "plt.show()"
      ],
      "execution_count": null,
      "outputs": [
        {
          "output_type": "display_data",
          "data": {
            "image/png": "[encoded data removed]",
            "text/plain": [
              "<Figure size 864x504 with 1 Axes>"
            ]
          },
          "metadata": {
            "tags": [],
            "needs_background": "light"
          }
        }
      ]
    },
    {
      "cell_type": "markdown",
      "metadata": {
        "id": "mKMYlvaoFEYJ"
      },
      "source": [
        "#### 1.b Gráfico de vendas por mês\n"
      ]
    },
    {
      "cell_type": "code",
      "metadata": {
        "colab": {
          "base_uri": "https://localhost:8080/",
          "height": 444
        },
        "id": "2aU5QNggqrT9",
        "outputId": "b427698d-e011-427c-f826-b8b6f49dc60b"
      },
      "source": [
        "plt.figure(figsize=(12,7)) \n",
        "plt.title('Quantidade de vendas por dia')\n",
        "ax = orders['data_venda'].hist(bins=len(orders['data_venda'].unique()), label='Vendas por dia')\n",
        "orders['ordinal'] = [date.toordinal() for date in orders['data_venda']]\n",
        "orders['ordinal'].plot(kind='kde', ax=ax, secondary_y=True, label='KDE')\n",
        "\n",
        "plt.legend(loc=\"upper right\")\n",
        "plt.show()"
      ],
      "execution_count": null,
      "outputs": [
        {
          "output_type": "display_data",
          "data": {
            "image/png": "[encoded data removed]",
            "text/plain": [
              "<Figure size 1080x504 with 2 Axes>"
            ]
          },
          "metadata": {
            "tags": [],
            "needs_background": "light"
          }
        }
      ]
    },
    {
      "cell_type": "markdown",
      "metadata": {
        "id": "qQcuDseNFMjX"
      },
      "source": [
        "#### 1.c Gráfico de vendas ao longo dos dias e KDE\n"
      ]
    },
    {
      "cell_type": "code",
      "metadata": {
        "colab": {
          "base_uri": "https://localhost:8080/"
        },
        "id": "AuNrdldn6lZ2",
        "outputId": "4fd7a1cc-51f1-4f13-855f-e8852017c91f"
      },
      "source": [
        "eachTrimester = orders.groupby('trimestre')['receita'].count()\n",
        "eachTrimester.div(orders['receita'].count()) * 100"
      ],
      "execution_count": null,
      "outputs": [
        {
          "output_type": "execute_result",
          "data": {
            "text/plain": [
              "trimestre\n",
              "1/2020     7.743730\n",
              "1/2021     9.104288\n",
              "2/2020    30.230318\n",
              "3/2020    16.449280\n",
              "4/2020    36.472383\n",
              "Name: receita, dtype: float64"
            ]
          },
          "metadata": {
            "tags": []
          },
          "execution_count": 15
        }
      ]
    },
    {
      "cell_type": "markdown",
      "metadata": {
        "id": "lmQ4WJMprsxj"
      },
      "source": [
        "Os três gráficos nos dão uma percepção melhor sobre os picos de vendas e o volume.\n",
        "\n",
        "* Mesmo o pico de vendas para o periodo entre maio/2020 e jul/2020 ter alcançado metade em relação ao periodo de nov/2020, foi responsável por 30,23% das vendas nesses 12 meses registrado\n",
        "* O pico do quarto trimestre provavelmente deve ter sido causado por alguma campanha de blackfriday\n",
        "\n",
        "> De fato houve um aumento no volume de vendas no segundo semestre de 2020 e que, só foi ultrapassado por 6% no quarto semestre de 2020. Está relacionado ao inicio do uso do serviço Facebook Ads?\n",
        "\n"
      ]
    },
    {
      "cell_type": "code",
      "metadata": {
        "colab": {
          "base_uri": "https://localhost:8080/",
          "height": 197
        },
        "id": "3QMuBN4YFVQ2",
        "outputId": "01949316-6e06-43ad-f2b6-1e538ce0b467"
      },
      "source": [
        "mediaCosts.head()"
      ],
      "execution_count": null,
      "outputs": [
        {
          "output_type": "execute_result",
          "data": {
            "text/html": [
              "<div>\n",
              "<style scoped>\n",
              "    .dataframe tbody tr th:only-of-type {\n",
              "        vertical-align: middle;\n",
              "    }\n",
              "\n",
              "    .dataframe tbody tr th {\n",
              "        vertical-align: top;\n",
              "    }\n",
              "\n",
              "    .dataframe thead th {\n",
              "        text-align: right;\n",
              "    }\n",
              "</style>\n",
              "<table border=\"1\" class=\"dataframe\">\n",
              "  <thead>\n",
              "    <tr style=\"text-align: right;\">\n",
              "      <th></th>\n",
              "      <th>date</th>\n",
              "      <th>facebook_ads</th>\n",
              "      <th>google_ads</th>\n",
              "    </tr>\n",
              "  </thead>\n",
              "  <tbody>\n",
              "    <tr>\n",
              "      <th>0</th>\n",
              "      <td>2020-01-01</td>\n",
              "      <td>NaN</td>\n",
              "      <td>987.46</td>\n",
              "    </tr>\n",
              "    <tr>\n",
              "      <th>1</th>\n",
              "      <td>2020-01-02</td>\n",
              "      <td>NaN</td>\n",
              "      <td>1165.32</td>\n",
              "    </tr>\n",
              "    <tr>\n",
              "      <th>2</th>\n",
              "      <td>2020-01-03</td>\n",
              "      <td>NaN</td>\n",
              "      <td>876.76</td>\n",
              "    </tr>\n",
              "    <tr>\n",
              "      <th>3</th>\n",
              "      <td>2020-01-04</td>\n",
              "      <td>NaN</td>\n",
              "      <td>804.85</td>\n",
              "    </tr>\n",
              "    <tr>\n",
              "      <th>4</th>\n",
              "      <td>2020-01-05</td>\n",
              "      <td>NaN</td>\n",
              "      <td>899.13</td>\n",
              "    </tr>\n",
              "  </tbody>\n",
              "</table>\n",
              "</div>"
            ],
            "text/plain": [
              "        date  facebook_ads  google_ads\n",
              "0 2020-01-01           NaN      987.46\n",
              "1 2020-01-02           NaN     1165.32\n",
              "2 2020-01-03           NaN      876.76\n",
              "3 2020-01-04           NaN      804.85\n",
              "4 2020-01-05           NaN      899.13"
            ]
          },
          "metadata": {
            "tags": []
          },
          "execution_count": 16
        }
      ]
    },
    {
      "cell_type": "code",
      "metadata": {
        "id": "xbKTWqVhGV27"
      },
      "source": [
        "mediaCosts['trimestre'] = mediaCosts['date'].apply(getTrimester)\n",
        "mediaCosts['periodo'] = mediaCosts['date'].apply(getPeriod)"
      ],
      "execution_count": null,
      "outputs": []
    },
    {
      "cell_type": "code",
      "metadata": {
        "id": "AVuQrDHqC55X"
      },
      "source": [
        "# alterando a estrutura para tornar a analise mais fácil\n",
        "mediaCosts = pd.melt(mediaCosts, id_vars=['date', 'trimestre', 'periodo'], value_vars=['facebook_ads', 'google_ads'], var_name='provedor', value_name='spent')"
      ],
      "execution_count": null,
      "outputs": []
    },
    {
      "cell_type": "code",
      "metadata": {
        "colab": {
          "base_uri": "https://localhost:8080/",
          "height": 197
        },
        "id": "pjArZ8LeBR8k",
        "outputId": "c40ada13-db54-405f-ad20-32d934f748ee"
      },
      "source": [
        "mediaCosts.head()"
      ],
      "execution_count": null,
      "outputs": [
        {
          "output_type": "execute_result",
          "data": {
            "text/html": [
              "<div>\n",
              "<style scoped>\n",
              "    .dataframe tbody tr th:only-of-type {\n",
              "        vertical-align: middle;\n",
              "    }\n",
              "\n",
              "    .dataframe tbody tr th {\n",
              "        vertical-align: top;\n",
              "    }\n",
              "\n",
              "    .dataframe thead th {\n",
              "        text-align: right;\n",
              "    }\n",
              "</style>\n",
              "<table border=\"1\" class=\"dataframe\">\n",
              "  <thead>\n",
              "    <tr style=\"text-align: right;\">\n",
              "      <th></th>\n",
              "      <th>date</th>\n",
              "      <th>trimestre</th>\n",
              "      <th>periodo</th>\n",
              "      <th>provedor</th>\n",
              "      <th>spent</th>\n",
              "    </tr>\n",
              "  </thead>\n",
              "  <tbody>\n",
              "    <tr>\n",
              "      <th>0</th>\n",
              "      <td>2020-01-01</td>\n",
              "      <td>1/2020</td>\n",
              "      <td>Jan/2020</td>\n",
              "      <td>facebook_ads</td>\n",
              "      <td>NaN</td>\n",
              "    </tr>\n",
              "    <tr>\n",
              "      <th>1</th>\n",
              "      <td>2020-01-02</td>\n",
              "      <td>1/2020</td>\n",
              "      <td>Jan/2020</td>\n",
              "      <td>facebook_ads</td>\n",
              "      <td>NaN</td>\n",
              "    </tr>\n",
              "    <tr>\n",
              "      <th>2</th>\n",
              "      <td>2020-01-03</td>\n",
              "      <td>1/2020</td>\n",
              "      <td>Jan/2020</td>\n",
              "      <td>facebook_ads</td>\n",
              "      <td>NaN</td>\n",
              "    </tr>\n",
              "    <tr>\n",
              "      <th>3</th>\n",
              "      <td>2020-01-04</td>\n",
              "      <td>1/2020</td>\n",
              "      <td>Jan/2020</td>\n",
              "      <td>facebook_ads</td>\n",
              "      <td>NaN</td>\n",
              "    </tr>\n",
              "    <tr>\n",
              "      <th>4</th>\n",
              "      <td>2020-01-05</td>\n",
              "      <td>1/2020</td>\n",
              "      <td>Jan/2020</td>\n",
              "      <td>facebook_ads</td>\n",
              "      <td>NaN</td>\n",
              "    </tr>\n",
              "  </tbody>\n",
              "</table>\n",
              "</div>"
            ],
            "text/plain": [
              "        date trimestre   periodo      provedor  spent\n",
              "0 2020-01-01    1/2020  Jan/2020  facebook_ads    NaN\n",
              "1 2020-01-02    1/2020  Jan/2020  facebook_ads    NaN\n",
              "2 2020-01-03    1/2020  Jan/2020  facebook_ads    NaN\n",
              "3 2020-01-04    1/2020  Jan/2020  facebook_ads    NaN\n",
              "4 2020-01-05    1/2020  Jan/2020  facebook_ads    NaN"
            ]
          },
          "metadata": {
            "tags": []
          },
          "execution_count": 19
        }
      ]
    },
    {
      "cell_type": "code",
      "metadata": {
        "colab": {
          "base_uri": "https://localhost:8080/",
          "height": 457
        },
        "id": "rgyvH1xlBfkG",
        "outputId": "b3ebc250-2b66-41e8-ea53-545e90fe569c"
      },
      "source": [
        "plt.figure(figsize=(12,7)) \n",
        "plt.title('Gasto por mês por provedor') \n",
        "_ = sns.barplot(x=\"periodo\", y=\"spent\", hue=\"provedor\", data=mediaCosts)\n",
        "plt.legend(loc=\"upper right\")\n",
        "plt.show()"
      ],
      "execution_count": null,
      "outputs": [
        {
          "output_type": "display_data",
          "data": {
            "image/png": "[encoded data removed]",
            "text/plain": [
              "<Figure size 1080x504 with 1 Axes>"
            ]
          },
          "metadata": {
            "tags": [],
            "needs_background": "light"
          }
        }
      ]
    },
    {
      "cell_type": "markdown",
      "metadata": {
        "id": "J76qLbs2FzGl"
      },
      "source": [
        "### 1.d Gráfico de gasto por provedor"
      ]
    },
    {
      "cell_type": "markdown",
      "metadata": {
        "id": "U5D9DheLJWRe"
      },
      "source": [
        "Como pudemos ver, o gasto com ads pelo Facebook teve um salto de Abril/2020 para Maio/2020. Isso poderia ajudar a explicar esse aumento de vendas, já que os periodos combinam. Entretando ainda não podemos correlacionar o volume de vendas com o aumento de investimento no Facebook Ads."
      ]
    },
    {
      "cell_type": "markdown",
      "metadata": {
        "id": "yqH9RqF3GDBw"
      },
      "source": [
        "NOVOS CLIENTES\n",
        "* Um cliente é considerado ativo caso ele tenha feito compras nos últimos\n",
        "12 meses. Analise a evolução do número de clientes ativos mês a mês.\n",
        "* Qual o canal de marketing que mais trouxe clientes em 2020? Qual foi a\n",
        "receita e margem dos clientes em cada canal? Analisando o investimento\n",
        "de cada canal, qual seria a sua recomendação para a diretoria sobre a\n",
        "alocação de recursos por canal?"
      ]
    },
    {
      "cell_type": "code",
      "metadata": {
        "colab": {
          "base_uri": "https://localhost:8080/",
          "height": 197
        },
        "id": "M68crd-IKnGC",
        "outputId": "9c922253-88cc-4764-8bfc-e0f97301aa7d"
      },
      "source": [
        "orders.head()"
      ],
      "execution_count": null,
      "outputs": [
        {
          "output_type": "execute_result",
          "data": {
            "text/html": [
              "<div>\n",
              "<style scoped>\n",
              "    .dataframe tbody tr th:only-of-type {\n",
              "        vertical-align: middle;\n",
              "    }\n",
              "\n",
              "    .dataframe tbody tr th {\n",
              "        vertical-align: top;\n",
              "    }\n",
              "\n",
              "    .dataframe thead th {\n",
              "        text-align: right;\n",
              "    }\n",
              "</style>\n",
              "<table border=\"1\" class=\"dataframe\">\n",
              "  <thead>\n",
              "    <tr style=\"text-align: right;\">\n",
              "      <th></th>\n",
              "      <th>data_venda</th>\n",
              "      <th>pedido</th>\n",
              "      <th>pedido_erp</th>\n",
              "      <th>cod_cliente</th>\n",
              "      <th>produto</th>\n",
              "      <th>qtde</th>\n",
              "      <th>preco_unitario</th>\n",
              "      <th>desconto_item</th>\n",
              "      <th>frete_pago_cliente</th>\n",
              "      <th>receita</th>\n",
              "      <th>custo_frete</th>\n",
              "      <th>trimestre</th>\n",
              "      <th>periodo</th>\n",
              "      <th>ordinal</th>\n",
              "    </tr>\n",
              "  </thead>\n",
              "  <tbody>\n",
              "    <tr>\n",
              "      <th>0</th>\n",
              "      <td>2020-01-01</td>\n",
              "      <td>7000001</td>\n",
              "      <td>P10000123123</td>\n",
              "      <td>4040690</td>\n",
              "      <td>E10505Y</td>\n",
              "      <td>1</td>\n",
              "      <td>149.9</td>\n",
              "      <td>0.0</td>\n",
              "      <td>32.32</td>\n",
              "      <td>182.22</td>\n",
              "      <td>32.32</td>\n",
              "      <td>1/2020</td>\n",
              "      <td>Jan/2020</td>\n",
              "      <td>737425</td>\n",
              "    </tr>\n",
              "    <tr>\n",
              "      <th>4063</th>\n",
              "      <td>2020-01-01</td>\n",
              "      <td>7000060</td>\n",
              "      <td>P10000123183</td>\n",
              "      <td>4102764</td>\n",
              "      <td>E10099Y</td>\n",
              "      <td>1</td>\n",
              "      <td>59.9</td>\n",
              "      <td>0.0</td>\n",
              "      <td>3.94</td>\n",
              "      <td>63.84</td>\n",
              "      <td>3.94</td>\n",
              "      <td>1/2020</td>\n",
              "      <td>Jan/2020</td>\n",
              "      <td>737425</td>\n",
              "    </tr>\n",
              "    <tr>\n",
              "      <th>4064</th>\n",
              "      <td>2020-01-01</td>\n",
              "      <td>7000060</td>\n",
              "      <td>P10000123183</td>\n",
              "      <td>4102764</td>\n",
              "      <td>E10273Y</td>\n",
              "      <td>1</td>\n",
              "      <td>39.9</td>\n",
              "      <td>0.0</td>\n",
              "      <td>3.94</td>\n",
              "      <td>43.84</td>\n",
              "      <td>3.94</td>\n",
              "      <td>1/2020</td>\n",
              "      <td>Jan/2020</td>\n",
              "      <td>737425</td>\n",
              "    </tr>\n",
              "    <tr>\n",
              "      <th>4065</th>\n",
              "      <td>2020-01-01</td>\n",
              "      <td>7000060</td>\n",
              "      <td>P10000123183</td>\n",
              "      <td>4102764</td>\n",
              "      <td>E10445Y</td>\n",
              "      <td>1</td>\n",
              "      <td>119.9</td>\n",
              "      <td>0.0</td>\n",
              "      <td>3.94</td>\n",
              "      <td>123.84</td>\n",
              "      <td>3.94</td>\n",
              "      <td>1/2020</td>\n",
              "      <td>Jan/2020</td>\n",
              "      <td>737425</td>\n",
              "    </tr>\n",
              "    <tr>\n",
              "      <th>10448</th>\n",
              "      <td>2020-01-01</td>\n",
              "      <td>7000004</td>\n",
              "      <td>P10000123127</td>\n",
              "      <td>4020158</td>\n",
              "      <td>E10590Y</td>\n",
              "      <td>1</td>\n",
              "      <td>89.9</td>\n",
              "      <td>0.0</td>\n",
              "      <td>24.27</td>\n",
              "      <td>114.17</td>\n",
              "      <td>24.27</td>\n",
              "      <td>1/2020</td>\n",
              "      <td>Jan/2020</td>\n",
              "      <td>737425</td>\n",
              "    </tr>\n",
              "  </tbody>\n",
              "</table>\n",
              "</div>"
            ],
            "text/plain": [
              "      data_venda   pedido    pedido_erp  ...  trimestre   periodo  ordinal\n",
              "0     2020-01-01  7000001  P10000123123  ...     1/2020  Jan/2020   737425\n",
              "4063  2020-01-01  7000060  P10000123183  ...     1/2020  Jan/2020   737425\n",
              "4064  2020-01-01  7000060  P10000123183  ...     1/2020  Jan/2020   737425\n",
              "4065  2020-01-01  7000060  P10000123183  ...     1/2020  Jan/2020   737425\n",
              "10448 2020-01-01  7000004  P10000123127  ...     1/2020  Jan/2020   737425\n",
              "\n",
              "[5 rows x 14 columns]"
            ]
          },
          "metadata": {
            "tags": []
          },
          "execution_count": 21
        }
      ]
    },
    {
      "cell_type": "code",
      "metadata": {
        "id": "39ZfB9Mgslq3"
      },
      "source": [
        "def isActive(client, df):\n",
        "  filtered = df[df['cod_cliente'] == client['cod_cliente']]\n",
        "\n",
        "  if (client['data_venda'] == filtered.iloc[0]['data_venda']):\n",
        "    return False\n",
        "  \n",
        "  filtered = filtered[filtered['data_venda'] < client['data_venda']]\n",
        "\n",
        "  recentMonth = client['data_venda'].month\n",
        "  toVerify = filtered.iloc[-1]['data_venda'].month\n",
        "\n",
        "  recentMonth = recentMonth +  12 if filtered.iloc[-1]['data_venda'].year < client['data_venda'].year else recentMonth\n",
        "\n",
        "  diff = recentMonth - toVerify\n",
        "\n",
        "  return True if diff < 12 else False"
      ],
      "execution_count": null,
      "outputs": []
    },
    {
      "cell_type": "code",
      "metadata": {
        "colab": {
          "base_uri": "https://localhost:8080/"
        },
        "id": "9h_QMEUnnc7N",
        "outputId": "e3456544-4938-4ab1-bdb4-8b04617d71c1"
      },
      "source": [
        "clientsToVerifyActivity = orders.drop_duplicates(['cod_cliente', 'data_venda'], keep='first')\n",
        "clientsToVerifyActivity['ativo'] = clientsToVerifyActivity.apply(lambda client: isActive(client, clientsToVerifyActivity), axis=1)"
      ],
      "execution_count": null,
      "outputs": [
        {
          "output_type": "stream",
          "text": [
            "/usr/local/lib/python3.7/dist-packages/ipykernel_launcher.py:2: SettingWithCopyWarning: \n",
            "A value is trying to be set on a copy of a slice from a DataFrame.\n",
            "Try using .loc[row_indexer,col_indexer] = value instead\n",
            "\n",
            "See the caveats in the documentation: https://pandas.pydata.org/pandas-docs/stable/user_guide/indexing.html#returning-a-view-versus-a-copy\n",
            "  \n"
          ],
          "name": "stderr"
        }
      ]
    },
    {
      "cell_type": "code",
      "metadata": {
        "colab": {
          "base_uri": "https://localhost:8080/",
          "height": 647
        },
        "id": "X6vm8YMCqp4B",
        "outputId": "60fe1dcc-ad68-4bbd-b579-79b3f4a4575a"
      },
      "source": [
        "clientsToVerifyActivity[clientsToVerifyActivity['data_venda'].dt.year == 2020].head(20)"
      ],
      "execution_count": null,
      "outputs": [
        {
          "output_type": "execute_result",
          "data": {
            "text/html": [
              "<div>\n",
              "<style scoped>\n",
              "    .dataframe tbody tr th:only-of-type {\n",
              "        vertical-align: middle;\n",
              "    }\n",
              "\n",
              "    .dataframe tbody tr th {\n",
              "        vertical-align: top;\n",
              "    }\n",
              "\n",
              "    .dataframe thead th {\n",
              "        text-align: right;\n",
              "    }\n",
              "</style>\n",
              "<table border=\"1\" class=\"dataframe\">\n",
              "  <thead>\n",
              "    <tr style=\"text-align: right;\">\n",
              "      <th></th>\n",
              "      <th>data_venda</th>\n",
              "      <th>pedido</th>\n",
              "      <th>pedido_erp</th>\n",
              "      <th>cod_cliente</th>\n",
              "      <th>produto</th>\n",
              "      <th>qtde</th>\n",
              "      <th>preco_unitario</th>\n",
              "      <th>desconto_item</th>\n",
              "      <th>frete_pago_cliente</th>\n",
              "      <th>receita</th>\n",
              "      <th>custo_frete</th>\n",
              "      <th>trimestre</th>\n",
              "      <th>periodo</th>\n",
              "      <th>ordinal</th>\n",
              "      <th>ativo</th>\n",
              "    </tr>\n",
              "  </thead>\n",
              "  <tbody>\n",
              "    <tr>\n",
              "      <th>0</th>\n",
              "      <td>2020-01-01</td>\n",
              "      <td>7000001</td>\n",
              "      <td>P10000123123</td>\n",
              "      <td>4040690</td>\n",
              "      <td>E10505Y</td>\n",
              "      <td>1</td>\n",
              "      <td>149.9</td>\n",
              "      <td>0.0</td>\n",
              "      <td>32.32</td>\n",
              "      <td>182.22</td>\n",
              "      <td>32.32</td>\n",
              "      <td>1/2020</td>\n",
              "      <td>Jan/2020</td>\n",
              "      <td>737425</td>\n",
              "      <td>False</td>\n",
              "    </tr>\n",
              "    <tr>\n",
              "      <th>4063</th>\n",
              "      <td>2020-01-01</td>\n",
              "      <td>7000060</td>\n",
              "      <td>P10000123183</td>\n",
              "      <td>4102764</td>\n",
              "      <td>E10099Y</td>\n",
              "      <td>1</td>\n",
              "      <td>59.9</td>\n",
              "      <td>0.0</td>\n",
              "      <td>3.94</td>\n",
              "      <td>63.84</td>\n",
              "      <td>3.94</td>\n",
              "      <td>1/2020</td>\n",
              "      <td>Jan/2020</td>\n",
              "      <td>737425</td>\n",
              "      <td>False</td>\n",
              "    </tr>\n",
              "    <tr>\n",
              "      <th>10448</th>\n",
              "      <td>2020-01-01</td>\n",
              "      <td>7000004</td>\n",
              "      <td>P10000123127</td>\n",
              "      <td>4020158</td>\n",
              "      <td>E10590Y</td>\n",
              "      <td>1</td>\n",
              "      <td>89.9</td>\n",
              "      <td>0.0</td>\n",
              "      <td>24.27</td>\n",
              "      <td>114.17</td>\n",
              "      <td>24.27</td>\n",
              "      <td>1/2020</td>\n",
              "      <td>Jan/2020</td>\n",
              "      <td>737425</td>\n",
              "      <td>False</td>\n",
              "    </tr>\n",
              "    <tr>\n",
              "      <th>10449</th>\n",
              "      <td>2020-01-01</td>\n",
              "      <td>7000005</td>\n",
              "      <td>P10000123126</td>\n",
              "      <td>4087442</td>\n",
              "      <td>B10138</td>\n",
              "      <td>1</td>\n",
              "      <td>24.9</td>\n",
              "      <td>0.0</td>\n",
              "      <td>0.00</td>\n",
              "      <td>24.90</td>\n",
              "      <td>0.00</td>\n",
              "      <td>1/2020</td>\n",
              "      <td>Jan/2020</td>\n",
              "      <td>737425</td>\n",
              "      <td>False</td>\n",
              "    </tr>\n",
              "    <tr>\n",
              "      <th>10450</th>\n",
              "      <td>2020-01-01</td>\n",
              "      <td>7000015</td>\n",
              "      <td>P10000123136</td>\n",
              "      <td>4138415</td>\n",
              "      <td>B10058G</td>\n",
              "      <td>1</td>\n",
              "      <td>29.9</td>\n",
              "      <td>-29.9</td>\n",
              "      <td>8.08</td>\n",
              "      <td>8.08</td>\n",
              "      <td>8.08</td>\n",
              "      <td>1/2020</td>\n",
              "      <td>Jan/2020</td>\n",
              "      <td>737425</td>\n",
              "      <td>False</td>\n",
              "    </tr>\n",
              "    <tr>\n",
              "      <th>10492</th>\n",
              "      <td>2020-01-01</td>\n",
              "      <td>7000016</td>\n",
              "      <td>P10000123137</td>\n",
              "      <td>4130183</td>\n",
              "      <td>E10079Y</td>\n",
              "      <td>1</td>\n",
              "      <td>329.9</td>\n",
              "      <td>0.0</td>\n",
              "      <td>0.00</td>\n",
              "      <td>329.90</td>\n",
              "      <td>42.89</td>\n",
              "      <td>1/2020</td>\n",
              "      <td>Jan/2020</td>\n",
              "      <td>737425</td>\n",
              "      <td>False</td>\n",
              "    </tr>\n",
              "    <tr>\n",
              "      <th>10493</th>\n",
              "      <td>2020-01-01</td>\n",
              "      <td>7000017</td>\n",
              "      <td>P10000123138</td>\n",
              "      <td>4124017</td>\n",
              "      <td>E10505Y</td>\n",
              "      <td>1</td>\n",
              "      <td>149.9</td>\n",
              "      <td>0.0</td>\n",
              "      <td>0.00</td>\n",
              "      <td>149.90</td>\n",
              "      <td>0.00</td>\n",
              "      <td>1/2020</td>\n",
              "      <td>Jan/2020</td>\n",
              "      <td>737425</td>\n",
              "      <td>False</td>\n",
              "    </tr>\n",
              "    <tr>\n",
              "      <th>10494</th>\n",
              "      <td>2020-01-01</td>\n",
              "      <td>7000023</td>\n",
              "      <td>P10000123144</td>\n",
              "      <td>4009947</td>\n",
              "      <td>E10467Y</td>\n",
              "      <td>1</td>\n",
              "      <td>29.9</td>\n",
              "      <td>0.0</td>\n",
              "      <td>10.03</td>\n",
              "      <td>39.93</td>\n",
              "      <td>10.03</td>\n",
              "      <td>1/2020</td>\n",
              "      <td>Jan/2020</td>\n",
              "      <td>737425</td>\n",
              "      <td>False</td>\n",
              "    </tr>\n",
              "    <tr>\n",
              "      <th>10495</th>\n",
              "      <td>2020-01-01</td>\n",
              "      <td>7000026</td>\n",
              "      <td>P10000123150</td>\n",
              "      <td>4055904</td>\n",
              "      <td>E10527Y</td>\n",
              "      <td>1</td>\n",
              "      <td>29.9</td>\n",
              "      <td>0.0</td>\n",
              "      <td>6.40</td>\n",
              "      <td>36.30</td>\n",
              "      <td>6.40</td>\n",
              "      <td>1/2020</td>\n",
              "      <td>Jan/2020</td>\n",
              "      <td>737425</td>\n",
              "      <td>False</td>\n",
              "    </tr>\n",
              "    <tr>\n",
              "      <th>10496</th>\n",
              "      <td>2020-01-01</td>\n",
              "      <td>7000027</td>\n",
              "      <td>P10000123151</td>\n",
              "      <td>4087434</td>\n",
              "      <td>E10431Y</td>\n",
              "      <td>1</td>\n",
              "      <td>149.9</td>\n",
              "      <td>0.0</td>\n",
              "      <td>5.00</td>\n",
              "      <td>154.90</td>\n",
              "      <td>5.00</td>\n",
              "      <td>1/2020</td>\n",
              "      <td>Jan/2020</td>\n",
              "      <td>737425</td>\n",
              "      <td>False</td>\n",
              "    </tr>\n",
              "    <tr>\n",
              "      <th>10497</th>\n",
              "      <td>2020-01-01</td>\n",
              "      <td>7000029</td>\n",
              "      <td>P10000123146</td>\n",
              "      <td>4094650</td>\n",
              "      <td>E10190Y</td>\n",
              "      <td>1</td>\n",
              "      <td>99.9</td>\n",
              "      <td>0.0</td>\n",
              "      <td>30.15</td>\n",
              "      <td>130.05</td>\n",
              "      <td>30.15</td>\n",
              "      <td>1/2020</td>\n",
              "      <td>Jan/2020</td>\n",
              "      <td>737425</td>\n",
              "      <td>False</td>\n",
              "    </tr>\n",
              "    <tr>\n",
              "      <th>10498</th>\n",
              "      <td>2020-01-01</td>\n",
              "      <td>7000030</td>\n",
              "      <td>P10000123147</td>\n",
              "      <td>4123426</td>\n",
              "      <td>E10271Y</td>\n",
              "      <td>1</td>\n",
              "      <td>399.9</td>\n",
              "      <td>0.0</td>\n",
              "      <td>0.00</td>\n",
              "      <td>399.90</td>\n",
              "      <td>51.99</td>\n",
              "      <td>1/2020</td>\n",
              "      <td>Jan/2020</td>\n",
              "      <td>737425</td>\n",
              "      <td>False</td>\n",
              "    </tr>\n",
              "    <tr>\n",
              "      <th>10499</th>\n",
              "      <td>2020-01-01</td>\n",
              "      <td>7000039</td>\n",
              "      <td>P10000123163</td>\n",
              "      <td>4021789</td>\n",
              "      <td>E10178Y</td>\n",
              "      <td>1</td>\n",
              "      <td>29.9</td>\n",
              "      <td>-1.5</td>\n",
              "      <td>10.21</td>\n",
              "      <td>38.61</td>\n",
              "      <td>10.21</td>\n",
              "      <td>1/2020</td>\n",
              "      <td>Jan/2020</td>\n",
              "      <td>737425</td>\n",
              "      <td>False</td>\n",
              "    </tr>\n",
              "    <tr>\n",
              "      <th>10500</th>\n",
              "      <td>2020-01-01</td>\n",
              "      <td>7000041</td>\n",
              "      <td>P10000123165</td>\n",
              "      <td>4040126</td>\n",
              "      <td>E10477Y</td>\n",
              "      <td>1</td>\n",
              "      <td>19.9</td>\n",
              "      <td>0.0</td>\n",
              "      <td>0.00</td>\n",
              "      <td>19.90</td>\n",
              "      <td>0.00</td>\n",
              "      <td>1/2020</td>\n",
              "      <td>Jan/2020</td>\n",
              "      <td>737425</td>\n",
              "      <td>False</td>\n",
              "    </tr>\n",
              "    <tr>\n",
              "      <th>10501</th>\n",
              "      <td>2020-01-01</td>\n",
              "      <td>7000045</td>\n",
              "      <td>P10000123161</td>\n",
              "      <td>4144343</td>\n",
              "      <td>E10471Y</td>\n",
              "      <td>1</td>\n",
              "      <td>59.9</td>\n",
              "      <td>0.0</td>\n",
              "      <td>17.95</td>\n",
              "      <td>77.85</td>\n",
              "      <td>17.95</td>\n",
              "      <td>1/2020</td>\n",
              "      <td>Jan/2020</td>\n",
              "      <td>737425</td>\n",
              "      <td>False</td>\n",
              "    </tr>\n",
              "    <tr>\n",
              "      <th>10502</th>\n",
              "      <td>2020-01-01</td>\n",
              "      <td>7000046</td>\n",
              "      <td>P10000123162</td>\n",
              "      <td>4097046</td>\n",
              "      <td>B10098</td>\n",
              "      <td>1</td>\n",
              "      <td>19.9</td>\n",
              "      <td>0.0</td>\n",
              "      <td>1.63</td>\n",
              "      <td>21.53</td>\n",
              "      <td>1.63</td>\n",
              "      <td>1/2020</td>\n",
              "      <td>Jan/2020</td>\n",
              "      <td>737425</td>\n",
              "      <td>False</td>\n",
              "    </tr>\n",
              "    <tr>\n",
              "      <th>10507</th>\n",
              "      <td>2020-01-01</td>\n",
              "      <td>7000048</td>\n",
              "      <td>P10000123170</td>\n",
              "      <td>4081624</td>\n",
              "      <td>E10605Y</td>\n",
              "      <td>1</td>\n",
              "      <td>199.9</td>\n",
              "      <td>0.0</td>\n",
              "      <td>10.63</td>\n",
              "      <td>210.53</td>\n",
              "      <td>10.63</td>\n",
              "      <td>1/2020</td>\n",
              "      <td>Jan/2020</td>\n",
              "      <td>737425</td>\n",
              "      <td>False</td>\n",
              "    </tr>\n",
              "    <tr>\n",
              "      <th>10508</th>\n",
              "      <td>2020-01-01</td>\n",
              "      <td>7000049</td>\n",
              "      <td>P10000123171</td>\n",
              "      <td>4068580</td>\n",
              "      <td>E10450Y</td>\n",
              "      <td>1</td>\n",
              "      <td>179.9</td>\n",
              "      <td>0.0</td>\n",
              "      <td>0.00</td>\n",
              "      <td>179.90</td>\n",
              "      <td>0.00</td>\n",
              "      <td>1/2020</td>\n",
              "      <td>Jan/2020</td>\n",
              "      <td>737425</td>\n",
              "      <td>False</td>\n",
              "    </tr>\n",
              "    <tr>\n",
              "      <th>10509</th>\n",
              "      <td>2020-01-01</td>\n",
              "      <td>7000053</td>\n",
              "      <td>P10000123175</td>\n",
              "      <td>4125109</td>\n",
              "      <td>B10061</td>\n",
              "      <td>1</td>\n",
              "      <td>9.9</td>\n",
              "      <td>-0.5</td>\n",
              "      <td>15.84</td>\n",
              "      <td>25.24</td>\n",
              "      <td>15.84</td>\n",
              "      <td>1/2020</td>\n",
              "      <td>Jan/2020</td>\n",
              "      <td>737425</td>\n",
              "      <td>False</td>\n",
              "    </tr>\n",
              "    <tr>\n",
              "      <th>10510</th>\n",
              "      <td>2020-01-01</td>\n",
              "      <td>7000057</td>\n",
              "      <td>P10000123176</td>\n",
              "      <td>4103211</td>\n",
              "      <td>E10414Y</td>\n",
              "      <td>1</td>\n",
              "      <td>239.9</td>\n",
              "      <td>0.0</td>\n",
              "      <td>0.00</td>\n",
              "      <td>239.90</td>\n",
              "      <td>31.19</td>\n",
              "      <td>1/2020</td>\n",
              "      <td>Jan/2020</td>\n",
              "      <td>737425</td>\n",
              "      <td>False</td>\n",
              "    </tr>\n",
              "  </tbody>\n",
              "</table>\n",
              "</div>"
            ],
            "text/plain": [
              "      data_venda   pedido    pedido_erp  ...   periodo ordinal  ativo\n",
              "0     2020-01-01  7000001  P10000123123  ...  Jan/2020  737425  False\n",
              "4063  2020-01-01  7000060  P10000123183  ...  Jan/2020  737425  False\n",
              "10448 2020-01-01  7000004  P10000123127  ...  Jan/2020  737425  False\n",
              "10449 2020-01-01  7000005  P10000123126  ...  Jan/2020  737425  False\n",
              "10450 2020-01-01  7000015  P10000123136  ...  Jan/2020  737425  False\n",
              "10492 2020-01-01  7000016  P10000123137  ...  Jan/2020  737425  False\n",
              "10493 2020-01-01  7000017  P10000123138  ...  Jan/2020  737425  False\n",
              "10494 2020-01-01  7000023  P10000123144  ...  Jan/2020  737425  False\n",
              "10495 2020-01-01  7000026  P10000123150  ...  Jan/2020  737425  False\n",
              "10496 2020-01-01  7000027  P10000123151  ...  Jan/2020  737425  False\n",
              "10497 2020-01-01  7000029  P10000123146  ...  Jan/2020  737425  False\n",
              "10498 2020-01-01  7000030  P10000123147  ...  Jan/2020  737425  False\n",
              "10499 2020-01-01  7000039  P10000123163  ...  Jan/2020  737425  False\n",
              "10500 2020-01-01  7000041  P10000123165  ...  Jan/2020  737425  False\n",
              "10501 2020-01-01  7000045  P10000123161  ...  Jan/2020  737425  False\n",
              "10502 2020-01-01  7000046  P10000123162  ...  Jan/2020  737425  False\n",
              "10507 2020-01-01  7000048  P10000123170  ...  Jan/2020  737425  False\n",
              "10508 2020-01-01  7000049  P10000123171  ...  Jan/2020  737425  False\n",
              "10509 2020-01-01  7000053  P10000123175  ...  Jan/2020  737425  False\n",
              "10510 2020-01-01  7000057  P10000123176  ...  Jan/2020  737425  False\n",
              "\n",
              "[20 rows x 15 columns]"
            ]
          },
          "metadata": {
            "tags": []
          },
          "execution_count": 24
        }
      ]
    },
    {
      "cell_type": "code",
      "metadata": {
        "colab": {
          "base_uri": "https://localhost:8080/"
        },
        "id": "EBMhKYTT3kJt",
        "outputId": "f2159792-50f2-4866-b203-bb3b709fe3bb"
      },
      "source": [
        "clientsToVerifyActivity.groupby('cod_cliente').count()['preco_unitario'].sort_values()"
      ],
      "execution_count": null,
      "outputs": [
        {
          "output_type": "execute_result",
          "data": {
            "text/plain": [
              "cod_cliente\n",
              "4073167     1\n",
              "4094789     1\n",
              "4094788     1\n",
              "4094787     1\n",
              "4094786     1\n",
              "           ..\n",
              "4021145    16\n",
              "4085066    16\n",
              "4005374    17\n",
              "4103152    18\n",
              "4059675    18\n",
              "Name: preco_unitario, Length: 146333, dtype: int64"
            ]
          },
          "metadata": {
            "tags": []
          },
          "execution_count": 25
        }
      ]
    },
    {
      "cell_type": "code",
      "metadata": {
        "colab": {
          "base_uri": "https://localhost:8080/",
          "height": 587
        },
        "id": "2ElONP8m2tZ9",
        "outputId": "b42d782f-d646-475f-874a-7430bae11877"
      },
      "source": [
        "clientsToVerifyActivity[clientsToVerifyActivity['cod_cliente'] == 4059675]"
      ],
      "execution_count": null,
      "outputs": [
        {
          "output_type": "execute_result",
          "data": {
            "text/html": [
              "<div>\n",
              "<style scoped>\n",
              "    .dataframe tbody tr th:only-of-type {\n",
              "        vertical-align: middle;\n",
              "    }\n",
              "\n",
              "    .dataframe tbody tr th {\n",
              "        vertical-align: top;\n",
              "    }\n",
              "\n",
              "    .dataframe thead th {\n",
              "        text-align: right;\n",
              "    }\n",
              "</style>\n",
              "<table border=\"1\" class=\"dataframe\">\n",
              "  <thead>\n",
              "    <tr style=\"text-align: right;\">\n",
              "      <th></th>\n",
              "      <th>data_venda</th>\n",
              "      <th>pedido</th>\n",
              "      <th>pedido_erp</th>\n",
              "      <th>cod_cliente</th>\n",
              "      <th>produto</th>\n",
              "      <th>qtde</th>\n",
              "      <th>preco_unitario</th>\n",
              "      <th>desconto_item</th>\n",
              "      <th>frete_pago_cliente</th>\n",
              "      <th>receita</th>\n",
              "      <th>custo_frete</th>\n",
              "      <th>trimestre</th>\n",
              "      <th>periodo</th>\n",
              "      <th>ordinal</th>\n",
              "      <th>ativo</th>\n",
              "    </tr>\n",
              "  </thead>\n",
              "  <tbody>\n",
              "    <tr>\n",
              "      <th>4890</th>\n",
              "      <td>2020-01-08</td>\n",
              "      <td>7000973</td>\n",
              "      <td>P10000124090</td>\n",
              "      <td>4059675</td>\n",
              "      <td>E10151Y</td>\n",
              "      <td>1</td>\n",
              "      <td>39.9</td>\n",
              "      <td>-2.00</td>\n",
              "      <td>24.27</td>\n",
              "      <td>62.17</td>\n",
              "      <td>24.27</td>\n",
              "      <td>1/2020</td>\n",
              "      <td>Jan/2020</td>\n",
              "      <td>737432</td>\n",
              "      <td>False</td>\n",
              "    </tr>\n",
              "    <tr>\n",
              "      <th>58634</th>\n",
              "      <td>2020-05-02</td>\n",
              "      <td>7022832</td>\n",
              "      <td>P10000145551</td>\n",
              "      <td>4059675</td>\n",
              "      <td>E10377Y</td>\n",
              "      <td>1</td>\n",
              "      <td>79.9</td>\n",
              "      <td>0.00</td>\n",
              "      <td>12.81</td>\n",
              "      <td>92.71</td>\n",
              "      <td>12.81</td>\n",
              "      <td>2/2020</td>\n",
              "      <td>May/2020</td>\n",
              "      <td>737547</td>\n",
              "      <td>True</td>\n",
              "    </tr>\n",
              "    <tr>\n",
              "      <th>67584</th>\n",
              "      <td>2020-06-07</td>\n",
              "      <td>7055152</td>\n",
              "      <td>P10000177779</td>\n",
              "      <td>4059675</td>\n",
              "      <td>E10485Y</td>\n",
              "      <td>1</td>\n",
              "      <td>99.9</td>\n",
              "      <td>0.00</td>\n",
              "      <td>0.00</td>\n",
              "      <td>99.90</td>\n",
              "      <td>12.99</td>\n",
              "      <td>2/2020</td>\n",
              "      <td>Jun/2020</td>\n",
              "      <td>737583</td>\n",
              "      <td>True</td>\n",
              "    </tr>\n",
              "    <tr>\n",
              "      <th>100547</th>\n",
              "      <td>2020-06-21</td>\n",
              "      <td>7064786</td>\n",
              "      <td>P10000187372</td>\n",
              "      <td>4059675</td>\n",
              "      <td>E10150Y</td>\n",
              "      <td>1</td>\n",
              "      <td>99.9</td>\n",
              "      <td>0.00</td>\n",
              "      <td>0.00</td>\n",
              "      <td>99.90</td>\n",
              "      <td>12.99</td>\n",
              "      <td>2/2020</td>\n",
              "      <td>Jun/2020</td>\n",
              "      <td>737597</td>\n",
              "      <td>True</td>\n",
              "    </tr>\n",
              "    <tr>\n",
              "      <th>143958</th>\n",
              "      <td>2020-06-25</td>\n",
              "      <td>7066838</td>\n",
              "      <td>P10000189389</td>\n",
              "      <td>4059675</td>\n",
              "      <td>E10500Y</td>\n",
              "      <td>1</td>\n",
              "      <td>9.9</td>\n",
              "      <td>0.00</td>\n",
              "      <td>3.72</td>\n",
              "      <td>13.62</td>\n",
              "      <td>3.72</td>\n",
              "      <td>2/2020</td>\n",
              "      <td>Jun/2020</td>\n",
              "      <td>737601</td>\n",
              "      <td>True</td>\n",
              "    </tr>\n",
              "    <tr>\n",
              "      <th>107898</th>\n",
              "      <td>2020-06-30</td>\n",
              "      <td>7069111</td>\n",
              "      <td>P10000191652</td>\n",
              "      <td>4059675</td>\n",
              "      <td>E10507Y</td>\n",
              "      <td>1</td>\n",
              "      <td>69.9</td>\n",
              "      <td>0.00</td>\n",
              "      <td>25.61</td>\n",
              "      <td>95.51</td>\n",
              "      <td>25.61</td>\n",
              "      <td>2/2020</td>\n",
              "      <td>Jun/2020</td>\n",
              "      <td>737606</td>\n",
              "      <td>True</td>\n",
              "    </tr>\n",
              "    <tr>\n",
              "      <th>88252</th>\n",
              "      <td>2020-07-05</td>\n",
              "      <td>7071263</td>\n",
              "      <td>P10000193788</td>\n",
              "      <td>4059675</td>\n",
              "      <td>E10541Y</td>\n",
              "      <td>1</td>\n",
              "      <td>269.9</td>\n",
              "      <td>0.00</td>\n",
              "      <td>0.00</td>\n",
              "      <td>269.90</td>\n",
              "      <td>35.09</td>\n",
              "      <td>3/2020</td>\n",
              "      <td>Jul/2020</td>\n",
              "      <td>737611</td>\n",
              "      <td>True</td>\n",
              "    </tr>\n",
              "    <tr>\n",
              "      <th>151840</th>\n",
              "      <td>2020-07-06</td>\n",
              "      <td>7071928</td>\n",
              "      <td>P10000194478</td>\n",
              "      <td>4059675</td>\n",
              "      <td>E10655Y</td>\n",
              "      <td>1</td>\n",
              "      <td>109.9</td>\n",
              "      <td>0.00</td>\n",
              "      <td>12.14</td>\n",
              "      <td>122.04</td>\n",
              "      <td>12.14</td>\n",
              "      <td>3/2020</td>\n",
              "      <td>Jul/2020</td>\n",
              "      <td>737612</td>\n",
              "      <td>True</td>\n",
              "    </tr>\n",
              "    <tr>\n",
              "      <th>92478</th>\n",
              "      <td>2020-07-11</td>\n",
              "      <td>7073775</td>\n",
              "      <td>P10000196303</td>\n",
              "      <td>4059675</td>\n",
              "      <td>E10406Y</td>\n",
              "      <td>1</td>\n",
              "      <td>69.9</td>\n",
              "      <td>-6.99</td>\n",
              "      <td>0.00</td>\n",
              "      <td>62.91</td>\n",
              "      <td>9.09</td>\n",
              "      <td>3/2020</td>\n",
              "      <td>Jul/2020</td>\n",
              "      <td>737617</td>\n",
              "      <td>True</td>\n",
              "    </tr>\n",
              "    <tr>\n",
              "      <th>117576</th>\n",
              "      <td>2020-07-15</td>\n",
              "      <td>7075226</td>\n",
              "      <td>P10000197753</td>\n",
              "      <td>4059675</td>\n",
              "      <td>E10682Y</td>\n",
              "      <td>1</td>\n",
              "      <td>139.9</td>\n",
              "      <td>-13.99</td>\n",
              "      <td>7.45</td>\n",
              "      <td>133.36</td>\n",
              "      <td>7.45</td>\n",
              "      <td>3/2020</td>\n",
              "      <td>Jul/2020</td>\n",
              "      <td>737621</td>\n",
              "      <td>True</td>\n",
              "    </tr>\n",
              "    <tr>\n",
              "      <th>118735</th>\n",
              "      <td>2020-07-17</td>\n",
              "      <td>7076025</td>\n",
              "      <td>P10000198542</td>\n",
              "      <td>4059675</td>\n",
              "      <td>E10416Y</td>\n",
              "      <td>1</td>\n",
              "      <td>369.9</td>\n",
              "      <td>-36.99</td>\n",
              "      <td>0.00</td>\n",
              "      <td>332.91</td>\n",
              "      <td>48.09</td>\n",
              "      <td>3/2020</td>\n",
              "      <td>Jul/2020</td>\n",
              "      <td>737623</td>\n",
              "      <td>True</td>\n",
              "    </tr>\n",
              "    <tr>\n",
              "      <th>106527</th>\n",
              "      <td>2020-08-02</td>\n",
              "      <td>7082826</td>\n",
              "      <td>P10000205362</td>\n",
              "      <td>4059675</td>\n",
              "      <td>E10679Y</td>\n",
              "      <td>1</td>\n",
              "      <td>499.9</td>\n",
              "      <td>-49.99</td>\n",
              "      <td>0.00</td>\n",
              "      <td>449.91</td>\n",
              "      <td>64.99</td>\n",
              "      <td>3/2020</td>\n",
              "      <td>Aug/2020</td>\n",
              "      <td>737639</td>\n",
              "      <td>True</td>\n",
              "    </tr>\n",
              "    <tr>\n",
              "      <th>109904</th>\n",
              "      <td>2020-08-07</td>\n",
              "      <td>7085398</td>\n",
              "      <td>P10000207931</td>\n",
              "      <td>4059675</td>\n",
              "      <td>E10633Y</td>\n",
              "      <td>1</td>\n",
              "      <td>199.9</td>\n",
              "      <td>-19.99</td>\n",
              "      <td>29.79</td>\n",
              "      <td>209.70</td>\n",
              "      <td>29.79</td>\n",
              "      <td>3/2020</td>\n",
              "      <td>Aug/2020</td>\n",
              "      <td>737644</td>\n",
              "      <td>True</td>\n",
              "    </tr>\n",
              "    <tr>\n",
              "      <th>111629</th>\n",
              "      <td>2020-08-11</td>\n",
              "      <td>7086683</td>\n",
              "      <td>P10000209223</td>\n",
              "      <td>4059675</td>\n",
              "      <td>E10427Y</td>\n",
              "      <td>1</td>\n",
              "      <td>169.9</td>\n",
              "      <td>-16.99</td>\n",
              "      <td>0.00</td>\n",
              "      <td>152.91</td>\n",
              "      <td>22.09</td>\n",
              "      <td>3/2020</td>\n",
              "      <td>Aug/2020</td>\n",
              "      <td>737648</td>\n",
              "      <td>True</td>\n",
              "    </tr>\n",
              "    <tr>\n",
              "      <th>137432</th>\n",
              "      <td>2020-08-16</td>\n",
              "      <td>7088228</td>\n",
              "      <td>P10000210757</td>\n",
              "      <td>4059675</td>\n",
              "      <td>E10389Y</td>\n",
              "      <td>1</td>\n",
              "      <td>9.9</td>\n",
              "      <td>-0.99</td>\n",
              "      <td>8.53</td>\n",
              "      <td>17.44</td>\n",
              "      <td>8.53</td>\n",
              "      <td>3/2020</td>\n",
              "      <td>Aug/2020</td>\n",
              "      <td>737653</td>\n",
              "      <td>True</td>\n",
              "    </tr>\n",
              "    <tr>\n",
              "      <th>143803</th>\n",
              "      <td>2020-08-30</td>\n",
              "      <td>7092440</td>\n",
              "      <td>P10000214959</td>\n",
              "      <td>4059675</td>\n",
              "      <td>E10776Y</td>\n",
              "      <td>1</td>\n",
              "      <td>99.9</td>\n",
              "      <td>-9.99</td>\n",
              "      <td>0.00</td>\n",
              "      <td>89.91</td>\n",
              "      <td>12.99</td>\n",
              "      <td>3/2020</td>\n",
              "      <td>Aug/2020</td>\n",
              "      <td>737667</td>\n",
              "      <td>True</td>\n",
              "    </tr>\n",
              "    <tr>\n",
              "      <th>148311</th>\n",
              "      <td>2020-09-08</td>\n",
              "      <td>7094758</td>\n",
              "      <td>P10000217273</td>\n",
              "      <td>4059675</td>\n",
              "      <td>E10438Y</td>\n",
              "      <td>1</td>\n",
              "      <td>199.9</td>\n",
              "      <td>0.00</td>\n",
              "      <td>12.81</td>\n",
              "      <td>212.71</td>\n",
              "      <td>12.81</td>\n",
              "      <td>3/2020</td>\n",
              "      <td>Sep/2020</td>\n",
              "      <td>737676</td>\n",
              "      <td>True</td>\n",
              "    </tr>\n",
              "    <tr>\n",
              "      <th>259435</th>\n",
              "      <td>2020-11-08</td>\n",
              "      <td>7113798</td>\n",
              "      <td>P10000236296</td>\n",
              "      <td>4059675</td>\n",
              "      <td>E10184Y</td>\n",
              "      <td>1</td>\n",
              "      <td>139.9</td>\n",
              "      <td>-13.99</td>\n",
              "      <td>0.00</td>\n",
              "      <td>125.91</td>\n",
              "      <td>18.19</td>\n",
              "      <td>4/2020</td>\n",
              "      <td>Nov/2020</td>\n",
              "      <td>737737</td>\n",
              "      <td>True</td>\n",
              "    </tr>\n",
              "  </tbody>\n",
              "</table>\n",
              "</div>"
            ],
            "text/plain": [
              "       data_venda   pedido    pedido_erp  ...   periodo ordinal  ativo\n",
              "4890   2020-01-08  7000973  P10000124090  ...  Jan/2020  737432  False\n",
              "58634  2020-05-02  7022832  P10000145551  ...  May/2020  737547   True\n",
              "67584  2020-06-07  7055152  P10000177779  ...  Jun/2020  737583   True\n",
              "100547 2020-06-21  7064786  P10000187372  ...  Jun/2020  737597   True\n",
              "143958 2020-06-25  7066838  P10000189389  ...  Jun/2020  737601   True\n",
              "107898 2020-06-30  7069111  P10000191652  ...  Jun/2020  737606   True\n",
              "88252  2020-07-05  7071263  P10000193788  ...  Jul/2020  737611   True\n",
              "151840 2020-07-06  7071928  P10000194478  ...  Jul/2020  737612   True\n",
              "92478  2020-07-11  7073775  P10000196303  ...  Jul/2020  737617   True\n",
              "117576 2020-07-15  7075226  P10000197753  ...  Jul/2020  737621   True\n",
              "118735 2020-07-17  7076025  P10000198542  ...  Jul/2020  737623   True\n",
              "106527 2020-08-02  7082826  P10000205362  ...  Aug/2020  737639   True\n",
              "109904 2020-08-07  7085398  P10000207931  ...  Aug/2020  737644   True\n",
              "111629 2020-08-11  7086683  P10000209223  ...  Aug/2020  737648   True\n",
              "137432 2020-08-16  7088228  P10000210757  ...  Aug/2020  737653   True\n",
              "143803 2020-08-30  7092440  P10000214959  ...  Aug/2020  737667   True\n",
              "148311 2020-09-08  7094758  P10000217273  ...  Sep/2020  737676   True\n",
              "259435 2020-11-08  7113798  P10000236296  ...  Nov/2020  737737   True\n",
              "\n",
              "[18 rows x 15 columns]"
            ]
          },
          "metadata": {
            "tags": []
          },
          "execution_count": 26
        }
      ]
    },
    {
      "cell_type": "code",
      "metadata": {
        "colab": {
          "base_uri": "https://localhost:8080/",
          "height": 457
        },
        "id": "YMP3_mX4yy_8",
        "outputId": "d1b7025f-8851-462b-ea6b-172b87711922"
      },
      "source": [
        "con"
      ],
      "execution_count": null,
      "outputs": [
        {
          "output_type": "display_data",
          "data": {
            "image/png": "[encoded data removed]",
            "text/plain": [
              "<Figure size 1296x504 with 1 Axes>"
            ]
          },
          "metadata": {
            "tags": [],
            "needs_background": "light"
          }
        }
      ]
    },
    {
      "cell_type": "markdown",
      "metadata": {
        "id": "rpUYxww3EHsU"
      },
      "source": [
        "Gráfico "
      ]
    },
    {
      "cell_type": "markdown",
      "metadata": {
        "id": "gt6lFpRB1Vjw"
      },
      "source": [
        "O gráfico a cima mostra das vendas, quais clientes eram considerados ativos. Esse gráfico não é acumulativo.\n",
        "## Clientes ativos gastam mais por compra que não ativos?"
      ]
    },
    {
      "cell_type": "markdown",
      "metadata": {
        "id": "hleTTVJMGHnc"
      },
      "source": [
        "RECORRÊNCIA\n",
        "* No final de 2020, a empresa lançou um programa de fidelidade para\n",
        "aumentar a recorrência dos clientes, ou seja, estimular uma nova compra\n",
        "dos clientes já existentes. De acordo com os dados, é possível perceber\n",
        "um aumento da participação de clientes antigos no faturamento? E na\n",
        "frequência média de compras dos clientes?"
      ]
    },
    {
      "cell_type": "markdown",
      "metadata": {
        "id": "kJ_kX3BcGK7m"
      },
      "source": [
        "MARGEM\n",
        "* Analise a margem média de cada pedido. Lembrando que a margem\n",
        "consiste na receita obtida no pedido menos os custos envolvidos (frete,\n",
        "custo da mercadoria e impostos)\n",
        "* Como última alavanca de crescimento, a companhia quer retirar de linha\n",
        "os produtos que trazem menos margem e aumentar a divulgação das\n",
        "linhas de produtos que são mais rentáveis. De acordo com suas análises a\n",
        "partir dos dados recebidos, qual seria a sua recomendação para o time de\n",
        "produtos?"
      ]
    },
    {
      "cell_type": "code",
      "metadata": {
        "id": "7H_jOWV6Ia5O"
      },
      "source": [
        ""
      ],
      "execution_count": null,
      "outputs": []
    }
  ]
}