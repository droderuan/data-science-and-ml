{
  "nbformat": 4,
  "nbformat_minor": 0,
  "metadata": {
    "colab": {
      "name": "ruan_ferreira_case_resolution_1.ipynb",
      "provenance": [],
      "collapsed_sections": [],
      "toc_visible": true,
      "mount_file_id": "19hXrF308IM7A7wFmVHBfR7OZT8JPdxHy",
      "authorship_tag": "ABX9TyOQW47ODLxDdyZea7lKX1GB",
      "include_colab_link": true
    },
    "kernelspec": {
      "name": "python3",
      "display_name": "Python 3"
    },
    "language_info": {
      "name": "python"
    }
  },
  "cells": [
    {
      "cell_type": "markdown",
      "metadata": {
        "id": "view-in-github",
        "colab_type": "text"
      },
      "source": [
        "<a href=\"https://colab.research.google.com/github/droderuan/data-science-and-ml/blob/main/vai_academy/ruan_ferreira_case_resolution_1.ipynb\" target=\"_parent\"><img src=\"https://colab.research.google.com/assets/colab-badge.svg\" alt=\"Open In Colab\"/></a>"
      ]
    },
    {
      "cell_type": "markdown",
      "metadata": {
        "id": "y9ZJjo1i6lKr"
      },
      "source": [
        "## **Ruan Ferreira Guimarães**\n",
        "\n",
        "Olá! Este notebook contém a minha análise sobre o dataset fornecido e a tentativa de verificar as hipóteses levantadas no case. Eu também tive uma outra hipótese e deixei pra verificar-la em um segundo notebook ruan_ferreira_case_resolution_2."
      ]
    },
    {
      "cell_type": "markdown",
      "metadata": {
        "id": "8qTXtyOv3uso"
      },
      "source": [
        "# Hipóteses\n",
        "* Mais consumidores estariam buscando por livros de não-ficção, indicando uma possível mudança de preferências dos leitores em geral.\n",
        "* Outra hipótese trazida pelos donos da empresa é a diversificação de livros na lista de bestsellers ao longo dos anos, de forma que os livros estariam ficando menos tempo na lista de bestsellers com o passar do tempo. \n",
        "*  Por fim, a alta direção acredita que as notas médias dos livros possuem maior influência na quantidade de vendas e tempo na lista de bestsellers do que os seus preços.\n"
      ]
    },
    {
      "cell_type": "code",
      "metadata": {
        "id": "0-t5m5A95Ri6"
      },
      "source": [
        "import pandas as pd\n",
        "import numpy as np\n",
        "import matplotlib.pyplot as plt\n",
        "from matplotlib import cm as cm\n",
        "\n",
        "%matplotlib inline"
      ],
      "execution_count": null,
      "outputs": []
    },
    {
      "cell_type": "code",
      "metadata": {
        "id": "AzOrepk26JFp"
      },
      "source": [
        "df = pd.read_csv('/content/drive/MyDrive/Colab Notebooks/vai_academy/módulo 02/case_resolution/bestsellers with categories.csv', sep=',')"
      ],
      "execution_count": null,
      "outputs": []
    },
    {
      "cell_type": "code",
      "metadata": {
        "colab": {
          "base_uri": "https://localhost:8080/",
          "height": 204
        },
        "id": "r7xlypwE6RRE",
        "outputId": "fafc9617-c442-4903-d0ac-96834163ae81"
      },
      "source": [
        "df.head()"
      ],
      "execution_count": null,
      "outputs": [
        {
          "output_type": "execute_result",
          "data": {
            "text/html": [
              "<div>\n",
              "<style scoped>\n",
              "    .dataframe tbody tr th:only-of-type {\n",
              "        vertical-align: middle;\n",
              "    }\n",
              "\n",
              "    .dataframe tbody tr th {\n",
              "        vertical-align: top;\n",
              "    }\n",
              "\n",
              "    .dataframe thead th {\n",
              "        text-align: right;\n",
              "    }\n",
              "</style>\n",
              "<table border=\"1\" class=\"dataframe\">\n",
              "  <thead>\n",
              "    <tr style=\"text-align: right;\">\n",
              "      <th></th>\n",
              "      <th>Name</th>\n",
              "      <th>Author</th>\n",
              "      <th>User Rating</th>\n",
              "      <th>Reviews</th>\n",
              "      <th>Price</th>\n",
              "      <th>Year</th>\n",
              "      <th>Genre</th>\n",
              "    </tr>\n",
              "  </thead>\n",
              "  <tbody>\n",
              "    <tr>\n",
              "      <th>0</th>\n",
              "      <td>10-Day Green Smoothie Cleanse</td>\n",
              "      <td>JJ Smith</td>\n",
              "      <td>4.7</td>\n",
              "      <td>17350</td>\n",
              "      <td>8</td>\n",
              "      <td>2016</td>\n",
              "      <td>Non Fiction</td>\n",
              "    </tr>\n",
              "    <tr>\n",
              "      <th>1</th>\n",
              "      <td>11/22/63: A Novel</td>\n",
              "      <td>Stephen King</td>\n",
              "      <td>4.6</td>\n",
              "      <td>2052</td>\n",
              "      <td>22</td>\n",
              "      <td>2011</td>\n",
              "      <td>Fiction</td>\n",
              "    </tr>\n",
              "    <tr>\n",
              "      <th>2</th>\n",
              "      <td>12 Rules for Life: An Antidote to Chaos</td>\n",
              "      <td>Jordan B. Peterson</td>\n",
              "      <td>4.7</td>\n",
              "      <td>18979</td>\n",
              "      <td>15</td>\n",
              "      <td>2018</td>\n",
              "      <td>Non Fiction</td>\n",
              "    </tr>\n",
              "    <tr>\n",
              "      <th>3</th>\n",
              "      <td>1984 (Signet Classics)</td>\n",
              "      <td>George Orwell</td>\n",
              "      <td>4.7</td>\n",
              "      <td>21424</td>\n",
              "      <td>6</td>\n",
              "      <td>2017</td>\n",
              "      <td>Fiction</td>\n",
              "    </tr>\n",
              "    <tr>\n",
              "      <th>4</th>\n",
              "      <td>5,000 Awesome Facts (About Everything!) (Natio...</td>\n",
              "      <td>National Geographic Kids</td>\n",
              "      <td>4.8</td>\n",
              "      <td>7665</td>\n",
              "      <td>12</td>\n",
              "      <td>2019</td>\n",
              "      <td>Non Fiction</td>\n",
              "    </tr>\n",
              "  </tbody>\n",
              "</table>\n",
              "</div>"
            ],
            "text/plain": [
              "                                                Name  ...        Genre\n",
              "0                      10-Day Green Smoothie Cleanse  ...  Non Fiction\n",
              "1                                  11/22/63: A Novel  ...      Fiction\n",
              "2            12 Rules for Life: An Antidote to Chaos  ...  Non Fiction\n",
              "3                             1984 (Signet Classics)  ...      Fiction\n",
              "4  5,000 Awesome Facts (About Everything!) (Natio...  ...  Non Fiction\n",
              "\n",
              "[5 rows x 7 columns]"
            ]
          },
          "metadata": {
            "tags": []
          },
          "execution_count": 4
        }
      ]
    },
    {
      "cell_type": "code",
      "metadata": {
        "colab": {
          "base_uri": "https://localhost:8080/",
          "height": 204
        },
        "id": "e7kVZDe7UTkX",
        "outputId": "0a58db23-56d9-420a-ba3c-7554375e4740"
      },
      "source": [
        "# Há livros com nomes repetidos\n",
        "df.tail()"
      ],
      "execution_count": null,
      "outputs": [
        {
          "output_type": "execute_result",
          "data": {
            "text/html": [
              "<div>\n",
              "<style scoped>\n",
              "    .dataframe tbody tr th:only-of-type {\n",
              "        vertical-align: middle;\n",
              "    }\n",
              "\n",
              "    .dataframe tbody tr th {\n",
              "        vertical-align: top;\n",
              "    }\n",
              "\n",
              "    .dataframe thead th {\n",
              "        text-align: right;\n",
              "    }\n",
              "</style>\n",
              "<table border=\"1\" class=\"dataframe\">\n",
              "  <thead>\n",
              "    <tr style=\"text-align: right;\">\n",
              "      <th></th>\n",
              "      <th>Name</th>\n",
              "      <th>Author</th>\n",
              "      <th>User Rating</th>\n",
              "      <th>Reviews</th>\n",
              "      <th>Price</th>\n",
              "      <th>Year</th>\n",
              "      <th>Genre</th>\n",
              "    </tr>\n",
              "  </thead>\n",
              "  <tbody>\n",
              "    <tr>\n",
              "      <th>545</th>\n",
              "      <td>Wrecking Ball (Diary of a Wimpy Kid Book 14)</td>\n",
              "      <td>Jeff Kinney</td>\n",
              "      <td>4.9</td>\n",
              "      <td>9413</td>\n",
              "      <td>8</td>\n",
              "      <td>2019</td>\n",
              "      <td>Fiction</td>\n",
              "    </tr>\n",
              "    <tr>\n",
              "      <th>546</th>\n",
              "      <td>You Are a Badass: How to Stop Doubting Your Gr...</td>\n",
              "      <td>Jen Sincero</td>\n",
              "      <td>4.7</td>\n",
              "      <td>14331</td>\n",
              "      <td>8</td>\n",
              "      <td>2016</td>\n",
              "      <td>Non Fiction</td>\n",
              "    </tr>\n",
              "    <tr>\n",
              "      <th>547</th>\n",
              "      <td>You Are a Badass: How to Stop Doubting Your Gr...</td>\n",
              "      <td>Jen Sincero</td>\n",
              "      <td>4.7</td>\n",
              "      <td>14331</td>\n",
              "      <td>8</td>\n",
              "      <td>2017</td>\n",
              "      <td>Non Fiction</td>\n",
              "    </tr>\n",
              "    <tr>\n",
              "      <th>548</th>\n",
              "      <td>You Are a Badass: How to Stop Doubting Your Gr...</td>\n",
              "      <td>Jen Sincero</td>\n",
              "      <td>4.7</td>\n",
              "      <td>14331</td>\n",
              "      <td>8</td>\n",
              "      <td>2018</td>\n",
              "      <td>Non Fiction</td>\n",
              "    </tr>\n",
              "    <tr>\n",
              "      <th>549</th>\n",
              "      <td>You Are a Badass: How to Stop Doubting Your Gr...</td>\n",
              "      <td>Jen Sincero</td>\n",
              "      <td>4.7</td>\n",
              "      <td>14331</td>\n",
              "      <td>8</td>\n",
              "      <td>2019</td>\n",
              "      <td>Non Fiction</td>\n",
              "    </tr>\n",
              "  </tbody>\n",
              "</table>\n",
              "</div>"
            ],
            "text/plain": [
              "                                                  Name  ...        Genre\n",
              "545       Wrecking Ball (Diary of a Wimpy Kid Book 14)  ...      Fiction\n",
              "546  You Are a Badass: How to Stop Doubting Your Gr...  ...  Non Fiction\n",
              "547  You Are a Badass: How to Stop Doubting Your Gr...  ...  Non Fiction\n",
              "548  You Are a Badass: How to Stop Doubting Your Gr...  ...  Non Fiction\n",
              "549  You Are a Badass: How to Stop Doubting Your Gr...  ...  Non Fiction\n",
              "\n",
              "[5 rows x 7 columns]"
            ]
          },
          "metadata": {
            "tags": []
          },
          "execution_count": 75
        }
      ]
    },
    {
      "cell_type": "code",
      "metadata": {
        "colab": {
          "base_uri": "https://localhost:8080/"
        },
        "id": "rVCapoRV6SVQ",
        "outputId": "abac4923-6394-4d0b-e662-e0f9d7ebbddc"
      },
      "source": [
        "df.info()"
      ],
      "execution_count": null,
      "outputs": [
        {
          "output_type": "stream",
          "text": [
            "<class 'pandas.core.frame.DataFrame'>\n",
            "RangeIndex: 550 entries, 0 to 549\n",
            "Data columns (total 7 columns):\n",
            " #   Column       Non-Null Count  Dtype  \n",
            "---  ------       --------------  -----  \n",
            " 0   Name         550 non-null    object \n",
            " 1   Author       550 non-null    object \n",
            " 2   User Rating  550 non-null    float64\n",
            " 3   Reviews      550 non-null    int64  \n",
            " 4   Price        550 non-null    int64  \n",
            " 5   Year         550 non-null    int64  \n",
            " 6   Genre        550 non-null    object \n",
            "dtypes: float64(1), int64(3), object(3)\n",
            "memory usage: 30.2+ KB\n"
          ],
          "name": "stdout"
        }
      ]
    },
    {
      "cell_type": "code",
      "metadata": {
        "colab": {
          "base_uri": "https://localhost:8080/",
          "height": 297
        },
        "id": "7L59iIMt6seL",
        "outputId": "eb2a6fdc-3c05-4a47-cf0d-33d1ff1c4dc4"
      },
      "source": [
        "df.describe()"
      ],
      "execution_count": null,
      "outputs": [
        {
          "output_type": "execute_result",
          "data": {
            "text/html": [
              "<div>\n",
              "<style scoped>\n",
              "    .dataframe tbody tr th:only-of-type {\n",
              "        vertical-align: middle;\n",
              "    }\n",
              "\n",
              "    .dataframe tbody tr th {\n",
              "        vertical-align: top;\n",
              "    }\n",
              "\n",
              "    .dataframe thead th {\n",
              "        text-align: right;\n",
              "    }\n",
              "</style>\n",
              "<table border=\"1\" class=\"dataframe\">\n",
              "  <thead>\n",
              "    <tr style=\"text-align: right;\">\n",
              "      <th></th>\n",
              "      <th>User Rating</th>\n",
              "      <th>Reviews</th>\n",
              "      <th>Price</th>\n",
              "      <th>Year</th>\n",
              "    </tr>\n",
              "  </thead>\n",
              "  <tbody>\n",
              "    <tr>\n",
              "      <th>count</th>\n",
              "      <td>550.000000</td>\n",
              "      <td>550.000000</td>\n",
              "      <td>550.000000</td>\n",
              "      <td>550.000000</td>\n",
              "    </tr>\n",
              "    <tr>\n",
              "      <th>mean</th>\n",
              "      <td>4.618364</td>\n",
              "      <td>11953.281818</td>\n",
              "      <td>13.100000</td>\n",
              "      <td>2014.000000</td>\n",
              "    </tr>\n",
              "    <tr>\n",
              "      <th>std</th>\n",
              "      <td>0.226980</td>\n",
              "      <td>11731.132017</td>\n",
              "      <td>10.842262</td>\n",
              "      <td>3.165156</td>\n",
              "    </tr>\n",
              "    <tr>\n",
              "      <th>min</th>\n",
              "      <td>3.300000</td>\n",
              "      <td>37.000000</td>\n",
              "      <td>0.000000</td>\n",
              "      <td>2009.000000</td>\n",
              "    </tr>\n",
              "    <tr>\n",
              "      <th>25%</th>\n",
              "      <td>4.500000</td>\n",
              "      <td>4058.000000</td>\n",
              "      <td>7.000000</td>\n",
              "      <td>2011.000000</td>\n",
              "    </tr>\n",
              "    <tr>\n",
              "      <th>50%</th>\n",
              "      <td>4.700000</td>\n",
              "      <td>8580.000000</td>\n",
              "      <td>11.000000</td>\n",
              "      <td>2014.000000</td>\n",
              "    </tr>\n",
              "    <tr>\n",
              "      <th>75%</th>\n",
              "      <td>4.800000</td>\n",
              "      <td>17253.250000</td>\n",
              "      <td>16.000000</td>\n",
              "      <td>2017.000000</td>\n",
              "    </tr>\n",
              "    <tr>\n",
              "      <th>max</th>\n",
              "      <td>4.900000</td>\n",
              "      <td>87841.000000</td>\n",
              "      <td>105.000000</td>\n",
              "      <td>2019.000000</td>\n",
              "    </tr>\n",
              "  </tbody>\n",
              "</table>\n",
              "</div>"
            ],
            "text/plain": [
              "       User Rating       Reviews       Price         Year\n",
              "count   550.000000    550.000000  550.000000   550.000000\n",
              "mean      4.618364  11953.281818   13.100000  2014.000000\n",
              "std       0.226980  11731.132017   10.842262     3.165156\n",
              "min       3.300000     37.000000    0.000000  2009.000000\n",
              "25%       4.500000   4058.000000    7.000000  2011.000000\n",
              "50%       4.700000   8580.000000   11.000000  2014.000000\n",
              "75%       4.800000  17253.250000   16.000000  2017.000000\n",
              "max       4.900000  87841.000000  105.000000  2019.000000"
            ]
          },
          "metadata": {
            "tags": []
          },
          "execution_count": 6
        }
      ]
    },
    {
      "cell_type": "markdown",
      "metadata": {
        "id": "CT69q2bhBZgG"
      },
      "source": [
        "# Verificando a primeira hipótese\n",
        "* Mais consumidores estariam buscando por livros de não-ficção, indicando uma possível mudança de preferências dos leitores em geral.\n",
        "\n",
        "Como não há número de vendas no arquivo, estou considerando como premisa o número de reviews como quantidade de vendas. No e-commerce da Amazon, para realizar um review do produto, o usuário deve ter-lo comprado. Os produtos mais vendidos são também os com mais reviews pelos usuários."
      ]
    },
    {
      "cell_type": "code",
      "metadata": {
        "colab": {
          "base_uri": "https://localhost:8080/"
        },
        "id": "GjSGV-Rv7haD",
        "outputId": "eaee668f-5b7e-4c4f-abd4-008348265d80"
      },
      "source": [
        "year_genre = pd.crosstab(index=df['Year'], columns=df[\"Genre\"])\n",
        "print(year_genre)\n",
        "print(year_genre.describe())"
      ],
      "execution_count": null,
      "outputs": [
        {
          "output_type": "stream",
          "text": [
            "Genre  Fiction  Non Fiction\n",
            "Year                       \n",
            "2009        24           26\n",
            "2010        20           30\n",
            "2011        21           29\n",
            "2012        21           29\n",
            "2013        24           26\n",
            "2014        29           21\n",
            "2015        17           33\n",
            "2016        19           31\n",
            "2017        24           26\n",
            "2018        21           29\n",
            "2019        20           30\n",
            "Genre    Fiction  Non Fiction\n",
            "count  11.000000    11.000000\n",
            "mean   21.818182    28.181818\n",
            "std     3.250175     3.250175\n",
            "min    17.000000    21.000000\n",
            "25%    20.000000    26.000000\n",
            "50%    21.000000    29.000000\n",
            "75%    24.000000    30.000000\n",
            "max    29.000000    33.000000\n"
          ],
          "name": "stdout"
        }
      ]
    },
    {
      "cell_type": "code",
      "metadata": {
        "colab": {
          "base_uri": "https://localhost:8080/",
          "height": 298
        },
        "id": "Klvh18hP9zuD",
        "outputId": "b7c82098-6fed-40fa-a6ad-9b6ceb7c9155"
      },
      "source": [
        "plt.bar(year_genre.index, height=year_genre[\"Fiction\"])\n",
        "plt.title(\"Quantidade de ficção no top 50\")\n",
        "plt.show()"
      ],
      "execution_count": null,
      "outputs": [
        {
          "output_type": "execute_result",
          "data": {
            "text/plain": [
              "Text(0.5, 1.0, 'Quantidade de ficção no top 50')"
            ]
          },
          "metadata": {
            "tags": []
          },
          "execution_count": 201
        },
        {
          "output_type": "display_data",
          "data": {
            "image/png": "[encoded data removed]",
            "text/plain": [
              "<Figure size 432x288 with 1 Axes>"
            ]
          },
          "metadata": {
            "tags": [],
            "needs_background": "light"
          }
        }
      ]
    },
    {
      "cell_type": "code",
      "metadata": {
        "colab": {
          "base_uri": "https://localhost:8080/",
          "height": 281
        },
        "id": "yGVxX73x-FQL",
        "outputId": "6911e45b-e51b-4f3c-f516-5fbb704c1b62"
      },
      "source": [
        "plt.bar(year_genre.index, height=year_genre[\"Non Fiction\"])\n",
        "plt.title(\"Quantidade de não ficção no top 50\")\n",
        "plt.show()"
      ],
      "execution_count": null,
      "outputs": [
        {
          "output_type": "display_data",
          "data": {
            "image/png": "[encoded data removed]",
            "text/plain": [
              "<Figure size 432x288 with 1 Axes>"
            ]
          },
          "metadata": {
            "tags": [],
            "needs_background": "light"
          }
        }
      ]
    },
    {
      "cell_type": "markdown",
      "metadata": {
        "id": "HsUVLIP6CD9Q"
      },
      "source": [
        "Aparentemente o número de bestsellers se manteram estáveis. Não há como concluir com isso se o gosto do consumidor se alterou.\n",
        "Agora irei verificar se isso se reflete no número de reviews (que estou considerando como um número de venda)."
      ]
    },
    {
      "cell_type": "code",
      "metadata": {
        "colab": {
          "base_uri": "https://localhost:8080/",
          "height": 295
        },
        "id": "vdv-D7soCSAV",
        "outputId": "214d0f69-3324-4dff-80a2-2fbcf1679137"
      },
      "source": [
        "fig, ax = plt.subplots()\n",
        "grouped_by_year_genre = df.groupby([\"Year\", \"Genre\"])[\"Reviews\"].sum().unstack().plot(ax=ax)\n",
        "plt.title(\"Reviews (vendas) por ano\")\n",
        "plt.show()"
      ],
      "execution_count": null,
      "outputs": [
        {
          "output_type": "display_data",
          "data": {
            "image/png": "[encoded data removed]",
            "text/plain": [
              "<Figure size 432x288 with 1 Axes>"
            ]
          },
          "metadata": {
            "tags": [],
            "needs_background": "light"
          }
        }
      ]
    },
    {
      "cell_type": "markdown",
      "metadata": {
        "id": "i3ut4sk7Cz-n"
      },
      "source": [
        "Aqui já podemos verificar uma outra tendência. Conforme os anos, os números de venda **aumentaram** para livros de não ficção, o que é um indicativo que a primeira hipótese é verdadeira.\n",
        "\n"
      ]
    },
    {
      "cell_type": "markdown",
      "metadata": {
        "id": "KAl3KdB7J5BY"
      },
      "source": [
        "# Segunda hipótese\n",
        "* Outra hipótese trazida pelos donos da empresa é a diversificação de livros na lista de bestsellers ao longo dos anos, de forma que os livros estariam ficando menos tempo na lista de bestsellers com o passar do tempo."
      ]
    },
    {
      "cell_type": "markdown",
      "metadata": {
        "id": "nTU5BUvQUNca"
      },
      "source": [
        "Com os dados que temos, é dificil verificar essa hipótese com precisão. Ao análisar a planilha, verifiquei que há livros com nome repetidos, ou seja, registro para cada ano em que esteve no top 50. Irei usar esses registros então para verificar a hipótese."
      ]
    },
    {
      "cell_type": "code",
      "metadata": {
        "id": "aKdWJBRFU1SR"
      },
      "source": [
        "# Aqui pego apenas as linhas onde o valor da coluna Nome se repete\n",
        "all_duplicated_names = df[df[\"Name\"].duplicated(keep=False)]"
      ],
      "execution_count": null,
      "outputs": []
    },
    {
      "cell_type": "code",
      "metadata": {
        "id": "XTEFKfVKWmP5"
      },
      "source": [
        "def getYearsOnBestSellers(name, df_to_search):\n",
        "  each_year = df_to_search[df_to_search[\"Name\"] == name]\n",
        "  first_year_on_top = each_year[\"Year\"].min()\n",
        "  years = (each_year[\"Year\"].iloc[-1] - first_year_on_top) + 1\n",
        "  return years\n",
        "\n",
        "def addYearsOnBestSellersColumn(df):\n",
        "  removed_dulicates = df[df[\"Name\"].duplicated()].copy()\n",
        "  removed_dulicates[\"years_on_best_sellers\"] = removed_dulicates[\"Name\"].apply(lambda name: getYearsOnBestSellers(name, df))\n",
        "\n",
        "  return removed_dulicates"
      ],
      "execution_count": null,
      "outputs": []
    },
    {
      "cell_type": "code",
      "metadata": {
        "colab": {
          "base_uri": "https://localhost:8080/",
          "height": 204
        },
        "id": "A3gVoHw-XJFU",
        "outputId": "595ff339-67fa-4bd3-cfb8-327b5cdeb878"
      },
      "source": [
        "df_with_years = addYearsOnBestSellersColumn(df)\n",
        "df_with_years.head()"
      ],
      "execution_count": null,
      "outputs": [
        {
          "output_type": "execute_result",
          "data": {
            "text/html": [
              "<div>\n",
              "<style scoped>\n",
              "    .dataframe tbody tr th:only-of-type {\n",
              "        vertical-align: middle;\n",
              "    }\n",
              "\n",
              "    .dataframe tbody tr th {\n",
              "        vertical-align: top;\n",
              "    }\n",
              "\n",
              "    .dataframe thead th {\n",
              "        text-align: right;\n",
              "    }\n",
              "</style>\n",
              "<table border=\"1\" class=\"dataframe\">\n",
              "  <thead>\n",
              "    <tr style=\"text-align: right;\">\n",
              "      <th></th>\n",
              "      <th>Name</th>\n",
              "      <th>Author</th>\n",
              "      <th>User Rating</th>\n",
              "      <th>Reviews</th>\n",
              "      <th>Price</th>\n",
              "      <th>Year</th>\n",
              "      <th>Genre</th>\n",
              "      <th>years_on_best_sellers</th>\n",
              "    </tr>\n",
              "  </thead>\n",
              "  <tbody>\n",
              "    <tr>\n",
              "      <th>10</th>\n",
              "      <td>A Man Called Ove: A Novel</td>\n",
              "      <td>Fredrik Backman</td>\n",
              "      <td>4.6</td>\n",
              "      <td>23848</td>\n",
              "      <td>8</td>\n",
              "      <td>2017</td>\n",
              "      <td>Fiction</td>\n",
              "      <td>2</td>\n",
              "    </tr>\n",
              "    <tr>\n",
              "      <th>21</th>\n",
              "      <td>All the Light We Cannot See</td>\n",
              "      <td>Anthony Doerr</td>\n",
              "      <td>4.6</td>\n",
              "      <td>36348</td>\n",
              "      <td>14</td>\n",
              "      <td>2015</td>\n",
              "      <td>Fiction</td>\n",
              "      <td>2</td>\n",
              "    </tr>\n",
              "    <tr>\n",
              "      <th>33</th>\n",
              "      <td>Becoming</td>\n",
              "      <td>Michelle Obama</td>\n",
              "      <td>4.8</td>\n",
              "      <td>61133</td>\n",
              "      <td>11</td>\n",
              "      <td>2019</td>\n",
              "      <td>Non Fiction</td>\n",
              "      <td>2</td>\n",
              "    </tr>\n",
              "    <tr>\n",
              "      <th>36</th>\n",
              "      <td>Between the World and Me</td>\n",
              "      <td>Ta-Nehisi Coates</td>\n",
              "      <td>4.7</td>\n",
              "      <td>10070</td>\n",
              "      <td>13</td>\n",
              "      <td>2016</td>\n",
              "      <td>Non Fiction</td>\n",
              "      <td>2</td>\n",
              "    </tr>\n",
              "    <tr>\n",
              "      <th>41</th>\n",
              "      <td>Brown Bear, Brown Bear, What Do You See?</td>\n",
              "      <td>Bill Martin Jr.</td>\n",
              "      <td>4.9</td>\n",
              "      <td>14344</td>\n",
              "      <td>5</td>\n",
              "      <td>2019</td>\n",
              "      <td>Fiction</td>\n",
              "      <td>3</td>\n",
              "    </tr>\n",
              "  </tbody>\n",
              "</table>\n",
              "</div>"
            ],
            "text/plain": [
              "                                        Name  ... years_on_best_sellers\n",
              "10                 A Man Called Ove: A Novel  ...                     2\n",
              "21               All the Light We Cannot See  ...                     2\n",
              "33                                  Becoming  ...                     2\n",
              "36                  Between the World and Me  ...                     2\n",
              "41  Brown Bear, Brown Bear, What Do You See?  ...                     3\n",
              "\n",
              "[5 rows x 8 columns]"
            ]
          },
          "metadata": {
            "tags": []
          },
          "execution_count": 196
        }
      ]
    },
    {
      "cell_type": "markdown",
      "metadata": {
        "id": "vXR2BPOPguO9"
      },
      "source": [
        "Abaixo podemos ver que os livros de não ficção somam uma quantidade maior na permanência no top 50 da amazon."
      ]
    },
    {
      "cell_type": "code",
      "metadata": {
        "colab": {
          "base_uri": "https://localhost:8080/"
        },
        "id": "MdUaHbjrgOaY",
        "outputId": "dfe6be26-6f71-4502-eb01-a884c23b24dc"
      },
      "source": [
        "# Aqui vemos que os livros de não ficção possuem um tempo maior ao todo, quando\n",
        "# somado os tempos por gênero \n",
        "df_with_years.groupby(\"Genre\")[\"years_on_best_sellers\"].sum()"
      ],
      "execution_count": null,
      "outputs": [
        {
          "output_type": "execute_result",
          "data": {
            "text/plain": [
              "Genre\n",
              "Fiction        320\n",
              "Non Fiction    589\n",
              "Name: years_on_best_sellers, dtype: int64"
            ]
          },
          "metadata": {
            "tags": []
          },
          "execution_count": 147
        }
      ]
    },
    {
      "cell_type": "markdown",
      "metadata": {
        "id": "fSC5ZIkgmh19"
      },
      "source": [
        "Agora podemos ver que de fato os livros de não ficção ficam mais tempo, em média 1 ano a mais, do que os de ficção."
      ]
    },
    {
      "cell_type": "code",
      "metadata": {
        "colab": {
          "base_uri": "https://localhost:8080/",
          "height": 142
        },
        "id": "1YA3778GmJUl",
        "outputId": "3683231c-b962-4b97-88d5-00fc011a23f0"
      },
      "source": [
        "df_with_years.groupby(\"Genre\")[\"years_on_best_sellers\"].describe()"
      ],
      "execution_count": null,
      "outputs": [
        {
          "output_type": "execute_result",
          "data": {
            "text/html": [
              "<div>\n",
              "<style scoped>\n",
              "    .dataframe tbody tr th:only-of-type {\n",
              "        vertical-align: middle;\n",
              "    }\n",
              "\n",
              "    .dataframe tbody tr th {\n",
              "        vertical-align: top;\n",
              "    }\n",
              "\n",
              "    .dataframe thead th {\n",
              "        text-align: right;\n",
              "    }\n",
              "</style>\n",
              "<table border=\"1\" class=\"dataframe\">\n",
              "  <thead>\n",
              "    <tr style=\"text-align: right;\">\n",
              "      <th></th>\n",
              "      <th>count</th>\n",
              "      <th>mean</th>\n",
              "      <th>std</th>\n",
              "      <th>min</th>\n",
              "      <th>25%</th>\n",
              "      <th>50%</th>\n",
              "      <th>75%</th>\n",
              "      <th>max</th>\n",
              "    </tr>\n",
              "    <tr>\n",
              "      <th>Genre</th>\n",
              "      <th></th>\n",
              "      <th></th>\n",
              "      <th></th>\n",
              "      <th></th>\n",
              "      <th></th>\n",
              "      <th></th>\n",
              "      <th></th>\n",
              "      <th></th>\n",
              "    </tr>\n",
              "  </thead>\n",
              "  <tbody>\n",
              "    <tr>\n",
              "      <th>Fiction</th>\n",
              "      <td>80.0</td>\n",
              "      <td>4.00000</td>\n",
              "      <td>2.110852</td>\n",
              "      <td>2.0</td>\n",
              "      <td>2.0</td>\n",
              "      <td>3.0</td>\n",
              "      <td>5.0</td>\n",
              "      <td>9.0</td>\n",
              "    </tr>\n",
              "    <tr>\n",
              "      <th>Non Fiction</th>\n",
              "      <td>119.0</td>\n",
              "      <td>4.94958</td>\n",
              "      <td>2.600028</td>\n",
              "      <td>1.0</td>\n",
              "      <td>3.0</td>\n",
              "      <td>5.0</td>\n",
              "      <td>6.0</td>\n",
              "      <td>10.0</td>\n",
              "    </tr>\n",
              "  </tbody>\n",
              "</table>\n",
              "</div>"
            ],
            "text/plain": [
              "             count     mean       std  min  25%  50%  75%   max\n",
              "Genre                                                          \n",
              "Fiction       80.0  4.00000  2.110852  2.0  2.0  3.0  5.0   9.0\n",
              "Non Fiction  119.0  4.94958  2.600028  1.0  3.0  5.0  6.0  10.0"
            ]
          },
          "metadata": {
            "tags": []
          },
          "execution_count": 199
        }
      ]
    },
    {
      "cell_type": "code",
      "metadata": {
        "colab": {
          "base_uri": "https://localhost:8080/",
          "height": 295
        },
        "id": "D3tAlkd_nxEl",
        "outputId": "36fd1f4a-b5cd-4773-c314-cf27b00e8679"
      },
      "source": [
        "fig, ax = plt.subplots()\n",
        "_ = df_with_years.groupby([\"Year\", \"Genre\"])[\"years_on_best_sellers\"].sum().unstack().plot(ax=ax)\n",
        "plt.title(\"Permanência de livros no top 50\")\n",
        "plt.show()"
      ],
      "execution_count": null,
      "outputs": [
        {
          "output_type": "display_data",
          "data": {
            "image/png": "[encoded data removed]",
            "text/plain": [
              "<Figure size 432x288 with 1 Axes>"
            ]
          },
          "metadata": {
            "tags": [],
            "needs_background": "light"
          }
        }
      ]
    },
    {
      "cell_type": "markdown",
      "metadata": {
        "id": "FZdNUOsroxrr"
      },
      "source": [
        "No gráfico acima podemos verificar que de fato, os livros de não ficção estão permanecendo menos conforme os anos passam e sendo ultrapassados pelos de ficção. Vale a pena notar que mesmo em 2014, os livro de não ficção mesmo estando acima da outra categoria, **venderam menos**. Recapitulando o gráfico:"
      ]
    },
    {
      "cell_type": "code",
      "metadata": {
        "colab": {
          "base_uri": "https://localhost:8080/",
          "height": 295
        },
        "id": "-oX7g0bgpkn-",
        "outputId": "aa3ef4b3-6a01-4523-9497-934db2dbf6db"
      },
      "source": [
        "fig, ax = plt.subplots()\n",
        "grouped_by_year_genre = df.groupby([\"Year\", \"Genre\"])[\"Reviews\"].sum().unstack().plot(ax=ax)\n",
        "plt.title(\"Reviews (vendas) por ano\")\n",
        "plt.show()"
      ],
      "execution_count": null,
      "outputs": [
        {
          "output_type": "display_data",
          "data": {
            "image/png": "[encoded data removed]",
            "text/plain": [
              "<Figure size 432x288 with 1 Axes>"
            ]
          },
          "metadata": {
            "tags": [],
            "needs_background": "light"
          }
        }
      ]
    },
    {
      "cell_type": "markdown",
      "metadata": {
        "id": "oaaE3axtruRY"
      },
      "source": [
        "Como vimos, os livros de ficção na realidade estão **permanencendo mais** conforme os anos passam, então não há como relacionar o tempo no top 50 com total de vendas. Porém ainda sim, em 2018, houve apenas 20 livros de ficção na lista e o total re reviews (vendas) diminuiu. Isso indica que esse valor alto em 2018 é dado a permanência de livros, ou seja, possui menos diversificação."
      ]
    },
    {
      "cell_type": "markdown",
      "metadata": {
        "id": "Y9in7VR-LPjL"
      },
      "source": [
        "# Terceira hipótese\n",
        "*  Por fim, a alta direção acredita que as notas médias dos livros possuem maior influência na quantidade de vendas e tempo na lista de bestsellers do que os seus preços."
      ]
    },
    {
      "cell_type": "markdown",
      "metadata": {
        "id": "UzstLuvttC8q"
      },
      "source": [
        "Irei realizar o mesmo tratamento anteriormente, porém dessa vez mantendo as duplicatas para verificar contabilizar cada ano, não apenas o último."
      ]
    },
    {
      "cell_type": "code",
      "metadata": {
        "id": "c9dWXEKiLTcE"
      },
      "source": [
        "def getYearsOnBestSellersWithDuplicates(row, df_to_search):\n",
        "  each_year = df_to_search[df_to_search[\"Name\"] == row.loc[\"Name\"]]\n",
        "  first_year_on_top = each_year[\"Year\"].min()\n",
        "  years = (row[\"Year\"] - first_year_on_top) + 1\n",
        "  return years\n",
        "\n",
        "def addYearsOnBestSellersColumnWithDuplicates(df):\n",
        "  removed_dulicates = df.copy()\n",
        "  removed_dulicates[\"years_on_best_sellers\"] = removed_dulicates.apply(lambda row: getYearsOnBestSellersWithDuplicates(row, df), axis=1)\n",
        "\n",
        "  return removed_dulicates"
      ],
      "execution_count": null,
      "outputs": []
    },
    {
      "cell_type": "code",
      "metadata": {
        "colab": {
          "base_uri": "https://localhost:8080/",
          "height": 204
        },
        "id": "S1xRKny1Ls5v",
        "outputId": "27f2cbc9-a2c2-4827-83c5-bf3328580cff"
      },
      "source": [
        "df_with_years_with_duplicates = addYearsOnBestSellersColumnWithDuplicates(df)\n",
        "df_with_years_with_duplicates.head()"
      ],
      "execution_count": null,
      "outputs": [
        {
          "output_type": "execute_result",
          "data": {
            "text/html": [
              "<div>\n",
              "<style scoped>\n",
              "    .dataframe tbody tr th:only-of-type {\n",
              "        vertical-align: middle;\n",
              "    }\n",
              "\n",
              "    .dataframe tbody tr th {\n",
              "        vertical-align: top;\n",
              "    }\n",
              "\n",
              "    .dataframe thead th {\n",
              "        text-align: right;\n",
              "    }\n",
              "</style>\n",
              "<table border=\"1\" class=\"dataframe\">\n",
              "  <thead>\n",
              "    <tr style=\"text-align: right;\">\n",
              "      <th></th>\n",
              "      <th>Name</th>\n",
              "      <th>Author</th>\n",
              "      <th>User Rating</th>\n",
              "      <th>Reviews</th>\n",
              "      <th>Price</th>\n",
              "      <th>Year</th>\n",
              "      <th>Genre</th>\n",
              "      <th>years_on_best_sellers</th>\n",
              "    </tr>\n",
              "  </thead>\n",
              "  <tbody>\n",
              "    <tr>\n",
              "      <th>0</th>\n",
              "      <td>10-Day Green Smoothie Cleanse</td>\n",
              "      <td>JJ Smith</td>\n",
              "      <td>4.7</td>\n",
              "      <td>17350</td>\n",
              "      <td>8</td>\n",
              "      <td>2016</td>\n",
              "      <td>Non Fiction</td>\n",
              "      <td>1</td>\n",
              "    </tr>\n",
              "    <tr>\n",
              "      <th>1</th>\n",
              "      <td>11/22/63: A Novel</td>\n",
              "      <td>Stephen King</td>\n",
              "      <td>4.6</td>\n",
              "      <td>2052</td>\n",
              "      <td>22</td>\n",
              "      <td>2011</td>\n",
              "      <td>Fiction</td>\n",
              "      <td>1</td>\n",
              "    </tr>\n",
              "    <tr>\n",
              "      <th>2</th>\n",
              "      <td>12 Rules for Life: An Antidote to Chaos</td>\n",
              "      <td>Jordan B. Peterson</td>\n",
              "      <td>4.7</td>\n",
              "      <td>18979</td>\n",
              "      <td>15</td>\n",
              "      <td>2018</td>\n",
              "      <td>Non Fiction</td>\n",
              "      <td>1</td>\n",
              "    </tr>\n",
              "    <tr>\n",
              "      <th>3</th>\n",
              "      <td>1984 (Signet Classics)</td>\n",
              "      <td>George Orwell</td>\n",
              "      <td>4.7</td>\n",
              "      <td>21424</td>\n",
              "      <td>6</td>\n",
              "      <td>2017</td>\n",
              "      <td>Fiction</td>\n",
              "      <td>1</td>\n",
              "    </tr>\n",
              "    <tr>\n",
              "      <th>4</th>\n",
              "      <td>5,000 Awesome Facts (About Everything!) (Natio...</td>\n",
              "      <td>National Geographic Kids</td>\n",
              "      <td>4.8</td>\n",
              "      <td>7665</td>\n",
              "      <td>12</td>\n",
              "      <td>2019</td>\n",
              "      <td>Non Fiction</td>\n",
              "      <td>1</td>\n",
              "    </tr>\n",
              "  </tbody>\n",
              "</table>\n",
              "</div>"
            ],
            "text/plain": [
              "                                                Name  ... years_on_best_sellers\n",
              "0                      10-Day Green Smoothie Cleanse  ...                     1\n",
              "1                                  11/22/63: A Novel  ...                     1\n",
              "2            12 Rules for Life: An Antidote to Chaos  ...                     1\n",
              "3                             1984 (Signet Classics)  ...                     1\n",
              "4  5,000 Awesome Facts (About Everything!) (Natio...  ...                     1\n",
              "\n",
              "[5 rows x 8 columns]"
            ]
          },
          "metadata": {
            "tags": []
          },
          "execution_count": 256
        }
      ]
    },
    {
      "cell_type": "code",
      "metadata": {
        "colab": {
          "base_uri": "https://localhost:8080/",
          "height": 204
        },
        "id": "03urzg5pRtxS",
        "outputId": "28cb9a4c-23eb-4edf-9997-8d118dfdb4bf"
      },
      "source": [
        "df_with_years_with_duplicates.tail()"
      ],
      "execution_count": null,
      "outputs": [
        {
          "output_type": "execute_result",
          "data": {
            "text/html": [
              "<div>\n",
              "<style scoped>\n",
              "    .dataframe tbody tr th:only-of-type {\n",
              "        vertical-align: middle;\n",
              "    }\n",
              "\n",
              "    .dataframe tbody tr th {\n",
              "        vertical-align: top;\n",
              "    }\n",
              "\n",
              "    .dataframe thead th {\n",
              "        text-align: right;\n",
              "    }\n",
              "</style>\n",
              "<table border=\"1\" class=\"dataframe\">\n",
              "  <thead>\n",
              "    <tr style=\"text-align: right;\">\n",
              "      <th></th>\n",
              "      <th>Name</th>\n",
              "      <th>Author</th>\n",
              "      <th>User Rating</th>\n",
              "      <th>Reviews</th>\n",
              "      <th>Price</th>\n",
              "      <th>Year</th>\n",
              "      <th>Genre</th>\n",
              "      <th>years_on_best_sellers</th>\n",
              "    </tr>\n",
              "  </thead>\n",
              "  <tbody>\n",
              "    <tr>\n",
              "      <th>545</th>\n",
              "      <td>Wrecking Ball (Diary of a Wimpy Kid Book 14)</td>\n",
              "      <td>Jeff Kinney</td>\n",
              "      <td>4.9</td>\n",
              "      <td>9413</td>\n",
              "      <td>8</td>\n",
              "      <td>2019</td>\n",
              "      <td>Fiction</td>\n",
              "      <td>1</td>\n",
              "    </tr>\n",
              "    <tr>\n",
              "      <th>546</th>\n",
              "      <td>You Are a Badass: How to Stop Doubting Your Gr...</td>\n",
              "      <td>Jen Sincero</td>\n",
              "      <td>4.7</td>\n",
              "      <td>14331</td>\n",
              "      <td>8</td>\n",
              "      <td>2016</td>\n",
              "      <td>Non Fiction</td>\n",
              "      <td>1</td>\n",
              "    </tr>\n",
              "    <tr>\n",
              "      <th>547</th>\n",
              "      <td>You Are a Badass: How to Stop Doubting Your Gr...</td>\n",
              "      <td>Jen Sincero</td>\n",
              "      <td>4.7</td>\n",
              "      <td>14331</td>\n",
              "      <td>8</td>\n",
              "      <td>2017</td>\n",
              "      <td>Non Fiction</td>\n",
              "      <td>2</td>\n",
              "    </tr>\n",
              "    <tr>\n",
              "      <th>548</th>\n",
              "      <td>You Are a Badass: How to Stop Doubting Your Gr...</td>\n",
              "      <td>Jen Sincero</td>\n",
              "      <td>4.7</td>\n",
              "      <td>14331</td>\n",
              "      <td>8</td>\n",
              "      <td>2018</td>\n",
              "      <td>Non Fiction</td>\n",
              "      <td>3</td>\n",
              "    </tr>\n",
              "    <tr>\n",
              "      <th>549</th>\n",
              "      <td>You Are a Badass: How to Stop Doubting Your Gr...</td>\n",
              "      <td>Jen Sincero</td>\n",
              "      <td>4.7</td>\n",
              "      <td>14331</td>\n",
              "      <td>8</td>\n",
              "      <td>2019</td>\n",
              "      <td>Non Fiction</td>\n",
              "      <td>4</td>\n",
              "    </tr>\n",
              "  </tbody>\n",
              "</table>\n",
              "</div>"
            ],
            "text/plain": [
              "                                                  Name  ... years_on_best_sellers\n",
              "545       Wrecking Ball (Diary of a Wimpy Kid Book 14)  ...                     1\n",
              "546  You Are a Badass: How to Stop Doubting Your Gr...  ...                     1\n",
              "547  You Are a Badass: How to Stop Doubting Your Gr...  ...                     2\n",
              "548  You Are a Badass: How to Stop Doubting Your Gr...  ...                     3\n",
              "549  You Are a Badass: How to Stop Doubting Your Gr...  ...                     4\n",
              "\n",
              "[5 rows x 8 columns]"
            ]
          },
          "metadata": {
            "tags": []
          },
          "execution_count": 229
        }
      ]
    },
    {
      "cell_type": "code",
      "metadata": {
        "colab": {
          "base_uri": "https://localhost:8080/",
          "height": 204
        },
        "id": "rtZ96cvburbO",
        "outputId": "df12e307-dcb1-4ac5-b4ac-814a7fd4734f"
      },
      "source": [
        "df_with_years_with_duplicates.corr()"
      ],
      "execution_count": null,
      "outputs": [
        {
          "output_type": "execute_result",
          "data": {
            "text/html": [
              "<div>\n",
              "<style scoped>\n",
              "    .dataframe tbody tr th:only-of-type {\n",
              "        vertical-align: middle;\n",
              "    }\n",
              "\n",
              "    .dataframe tbody tr th {\n",
              "        vertical-align: top;\n",
              "    }\n",
              "\n",
              "    .dataframe thead th {\n",
              "        text-align: right;\n",
              "    }\n",
              "</style>\n",
              "<table border=\"1\" class=\"dataframe\">\n",
              "  <thead>\n",
              "    <tr style=\"text-align: right;\">\n",
              "      <th></th>\n",
              "      <th>User Rating</th>\n",
              "      <th>Reviews</th>\n",
              "      <th>Price</th>\n",
              "      <th>Year</th>\n",
              "      <th>years_on_best_sellers</th>\n",
              "    </tr>\n",
              "  </thead>\n",
              "  <tbody>\n",
              "    <tr>\n",
              "      <th>User Rating</th>\n",
              "      <td>1.000000</td>\n",
              "      <td>-0.001729</td>\n",
              "      <td>-0.133086</td>\n",
              "      <td>0.242383</td>\n",
              "      <td>0.023623</td>\n",
              "    </tr>\n",
              "    <tr>\n",
              "      <th>Reviews</th>\n",
              "      <td>-0.001729</td>\n",
              "      <td>1.000000</td>\n",
              "      <td>-0.109182</td>\n",
              "      <td>0.263560</td>\n",
              "      <td>0.137170</td>\n",
              "    </tr>\n",
              "    <tr>\n",
              "      <th>Price</th>\n",
              "      <td>-0.133086</td>\n",
              "      <td>-0.109182</td>\n",
              "      <td>1.000000</td>\n",
              "      <td>-0.153979</td>\n",
              "      <td>0.087993</td>\n",
              "    </tr>\n",
              "    <tr>\n",
              "      <th>Year</th>\n",
              "      <td>0.242383</td>\n",
              "      <td>0.263560</td>\n",
              "      <td>-0.153979</td>\n",
              "      <td>1.000000</td>\n",
              "      <td>0.263719</td>\n",
              "    </tr>\n",
              "    <tr>\n",
              "      <th>years_on_best_sellers</th>\n",
              "      <td>0.023623</td>\n",
              "      <td>0.137170</td>\n",
              "      <td>0.087993</td>\n",
              "      <td>0.263719</td>\n",
              "      <td>1.000000</td>\n",
              "    </tr>\n",
              "  </tbody>\n",
              "</table>\n",
              "</div>"
            ],
            "text/plain": [
              "                       User Rating   Reviews  ...      Year  years_on_best_sellers\n",
              "User Rating               1.000000 -0.001729  ...  0.242383               0.023623\n",
              "Reviews                  -0.001729  1.000000  ...  0.263560               0.137170\n",
              "Price                    -0.133086 -0.109182  ... -0.153979               0.087993\n",
              "Year                      0.242383  0.263560  ...  1.000000               0.263719\n",
              "years_on_best_sellers     0.023623  0.137170  ...  0.263719               1.000000\n",
              "\n",
              "[5 rows x 5 columns]"
            ]
          },
          "metadata": {
            "tags": []
          },
          "execution_count": 233
        }
      ]
    },
    {
      "cell_type": "code",
      "metadata": {
        "colab": {
          "base_uri": "https://localhost:8080/"
        },
        "id": "sDIOQyiUwdys",
        "outputId": "8f9f8d85-d0f8-49e4-eb45-ee4bec23fa90"
      },
      "source": [
        "df_with_years_with_duplicates.groupby(\"User Rating\")[\"Reviews\"].mean()"
      ],
      "execution_count": null,
      "outputs": [
        {
          "output_type": "execute_result",
          "data": {
            "text/plain": [
              "User Rating\n",
              "3.3     9372.000000\n",
              "3.6    14982.000000\n",
              "3.8    47265.000000\n",
              "3.9    24666.000000\n",
              "4.0    17376.142857\n",
              "4.1    32384.166667\n",
              "4.2     4283.500000\n",
              "4.3     8362.880000\n",
              "4.4     7038.973684\n",
              "4.5     9231.116667\n",
              "4.6     9260.038095\n",
              "4.7    13660.925926\n",
              "4.8    13840.110236\n",
              "4.9    12957.423077\n",
              "Name: Reviews, dtype: float64"
            ]
          },
          "metadata": {
            "tags": []
          },
          "execution_count": 234
        }
      ]
    },
    {
      "cell_type": "code",
      "metadata": {
        "colab": {
          "base_uri": "https://localhost:8080/"
        },
        "id": "DXGNZu3LwpaA",
        "outputId": "6d77f296-58c7-4c06-b8e8-58dbbd62f1c5"
      },
      "source": [
        "df_with_years_with_duplicates.groupby(\"User Rating\")[\"years_on_best_sellers\"].mean()"
      ],
      "execution_count": null,
      "outputs": [
        {
          "output_type": "execute_result",
          "data": {
            "text/plain": [
              "User Rating\n",
              "3.3    1.000000\n",
              "3.6    1.000000\n",
              "3.8    1.500000\n",
              "3.9    1.333333\n",
              "4.0    3.785714\n",
              "4.1    1.166667\n",
              "4.2    1.000000\n",
              "4.3    1.160000\n",
              "4.4    1.500000\n",
              "4.5    2.100000\n",
              "4.6    1.657143\n",
              "4.7    1.953704\n",
              "4.8    1.692913\n",
              "4.9    2.423077\n",
              "Name: years_on_best_sellers, dtype: float64"
            ]
          },
          "metadata": {
            "tags": []
          },
          "execution_count": 235
        }
      ]
    },
    {
      "cell_type": "markdown",
      "metadata": {
        "id": "yinzsBs8w0id"
      },
      "source": [
        "Agora realizando um teste no dataframe com as duplicatas removidas"
      ]
    },
    {
      "cell_type": "code",
      "metadata": {
        "colab": {
          "base_uri": "https://localhost:8080/"
        },
        "id": "pN0nPrahw6eL",
        "outputId": "1e083cfb-5644-4d81-dd68-2f90c6059e86"
      },
      "source": [
        "df_with_years.groupby(\"User Rating\")[\"years_on_best_sellers\"].mean()"
      ],
      "execution_count": null,
      "outputs": [
        {
          "output_type": "execute_result",
          "data": {
            "text/plain": [
              "User Rating\n",
              "3.8    2.000000\n",
              "3.9    2.000000\n",
              "4.0    7.800000\n",
              "4.1    2.000000\n",
              "4.3    2.000000\n",
              "4.4    3.083333\n",
              "4.5    6.333333\n",
              "4.6    3.861111\n",
              "4.7    4.302326\n",
              "4.8    3.826087\n",
              "4.9    6.125000\n",
              "Name: years_on_best_sellers, dtype: float64"
            ]
          },
          "metadata": {
            "tags": []
          },
          "execution_count": 236
        }
      ]
    },
    {
      "cell_type": "code",
      "metadata": {
        "colab": {
          "base_uri": "https://localhost:8080/"
        },
        "id": "Jhv-1b1BxCZp",
        "outputId": "f89a4e3e-aabe-4786-eb64-6f93a9be4397"
      },
      "source": [
        "df_with_years.groupby(\"User Rating\")[\"Reviews\"].mean()"
      ],
      "execution_count": null,
      "outputs": [
        {
          "output_type": "execute_result",
          "data": {
            "text/plain": [
              "User Rating\n",
              "3.8    47265.000000\n",
              "3.9    33844.000000\n",
              "4.0    15509.400000\n",
              "4.1    79446.000000\n",
              "4.3     9341.000000\n",
              "4.4     6158.166667\n",
              "4.5    10922.238095\n",
              "4.6    11817.972222\n",
              "4.7    17189.139535\n",
              "4.8    19361.326087\n",
              "4.9    17630.708333\n",
              "Name: Reviews, dtype: float64"
            ]
          },
          "metadata": {
            "tags": []
          },
          "execution_count": 237
        }
      ]
    },
    {
      "cell_type": "code",
      "metadata": {
        "colab": {
          "base_uri": "https://localhost:8080/",
          "height": 204
        },
        "id": "bX_CL16wxHfQ",
        "outputId": "c0fe6893-0c1a-4a1f-b142-5b18192ca3d2"
      },
      "source": [
        "df_with_years.corr()"
      ],
      "execution_count": null,
      "outputs": [
        {
          "output_type": "execute_result",
          "data": {
            "text/html": [
              "<div>\n",
              "<style scoped>\n",
              "    .dataframe tbody tr th:only-of-type {\n",
              "        vertical-align: middle;\n",
              "    }\n",
              "\n",
              "    .dataframe tbody tr th {\n",
              "        vertical-align: top;\n",
              "    }\n",
              "\n",
              "    .dataframe thead th {\n",
              "        text-align: right;\n",
              "    }\n",
              "</style>\n",
              "<table border=\"1\" class=\"dataframe\">\n",
              "  <thead>\n",
              "    <tr style=\"text-align: right;\">\n",
              "      <th></th>\n",
              "      <th>User Rating</th>\n",
              "      <th>Reviews</th>\n",
              "      <th>Price</th>\n",
              "      <th>Year</th>\n",
              "      <th>years_on_best_sellers</th>\n",
              "    </tr>\n",
              "  </thead>\n",
              "  <tbody>\n",
              "    <tr>\n",
              "      <th>User Rating</th>\n",
              "      <td>1.000000</td>\n",
              "      <td>0.046322</td>\n",
              "      <td>-0.278946</td>\n",
              "      <td>0.271549</td>\n",
              "      <td>-0.073156</td>\n",
              "    </tr>\n",
              "    <tr>\n",
              "      <th>Reviews</th>\n",
              "      <td>0.046322</td>\n",
              "      <td>1.000000</td>\n",
              "      <td>-0.232706</td>\n",
              "      <td>0.234232</td>\n",
              "      <td>-0.126223</td>\n",
              "    </tr>\n",
              "    <tr>\n",
              "      <th>Price</th>\n",
              "      <td>-0.278946</td>\n",
              "      <td>-0.232706</td>\n",
              "      <td>1.000000</td>\n",
              "      <td>-0.207163</td>\n",
              "      <td>0.281216</td>\n",
              "    </tr>\n",
              "    <tr>\n",
              "      <th>Year</th>\n",
              "      <td>0.271549</td>\n",
              "      <td>0.234232</td>\n",
              "      <td>-0.207163</td>\n",
              "      <td>1.000000</td>\n",
              "      <td>0.026508</td>\n",
              "    </tr>\n",
              "    <tr>\n",
              "      <th>years_on_best_sellers</th>\n",
              "      <td>-0.073156</td>\n",
              "      <td>-0.126223</td>\n",
              "      <td>0.281216</td>\n",
              "      <td>0.026508</td>\n",
              "      <td>1.000000</td>\n",
              "    </tr>\n",
              "  </tbody>\n",
              "</table>\n",
              "</div>"
            ],
            "text/plain": [
              "                       User Rating   Reviews  ...      Year  years_on_best_sellers\n",
              "User Rating               1.000000  0.046322  ...  0.271549              -0.073156\n",
              "Reviews                   0.046322  1.000000  ...  0.234232              -0.126223\n",
              "Price                    -0.278946 -0.232706  ... -0.207163               0.281216\n",
              "Year                      0.271549  0.234232  ...  1.000000               0.026508\n",
              "years_on_best_sellers    -0.073156 -0.126223  ...  0.026508               1.000000\n",
              "\n",
              "[5 rows x 5 columns]"
            ]
          },
          "metadata": {
            "tags": []
          },
          "execution_count": 238
        }
      ]
    },
    {
      "cell_type": "markdown",
      "metadata": {
        "id": "YepXSDt-vET0"
      },
      "source": [
        "Somente ao remover as duplicatas podemos ver que as notas de usuários influênciam nos anos no top 50. Talvez seja por que a nota não mude e como os anos são incrementais (1, 2, 3..), isso faz com que vá para baixo a média com duplicatas. Outra coisa interessante é que a matriz de correlação junto das médias, mostram que não há uma boa correlação da avaliação com o número de reviews."
      ]
    },
    {
      "cell_type": "markdown",
      "metadata": {
        "id": "zFosxy8oyqIR"
      },
      "source": [
        "A última verificação será se o preço influência mais nesses dois atributos: tempo no top 50 e reviews"
      ]
    },
    {
      "cell_type": "code",
      "metadata": {
        "id": "ilX6UzAzy6RS"
      },
      "source": [
        "def getPriceGroup(value, max_value, min_value, bins=4):\n",
        "    bin_width = (max_value - min_value)/bins\n",
        "    \n",
        "    n_bins = (value - min_value)//bin_width \n",
        "    if n_bins == bins:                  \n",
        "        n_bins -= 1                      \n",
        "    \n",
        "    lower_bound = min_value + bin_width*n_bins\n",
        "    upper_bound = min_value + bin_width*(n_bins + 1)\n",
        "    \n",
        "    return str(lower_bound) + ' - ' + str(upper_bound)"
      ],
      "execution_count": null,
      "outputs": []
    },
    {
      "cell_type": "code",
      "metadata": {
        "id": "YFTNoL9dz89u"
      },
      "source": [
        "max_price = df_with_years[\"Price\"].max()\n",
        "min_price = df_with_years[\"Price\"].min()"
      ],
      "execution_count": null,
      "outputs": []
    },
    {
      "cell_type": "code",
      "metadata": {
        "id": "qG6CHDxxzwP4"
      },
      "source": [
        "df_with_years[\"price_group\"] = df_with_years[\"Price\"].apply(lambda price: getPriceGroup(price, max_price, min_price, 5))"
      ],
      "execution_count": null,
      "outputs": []
    },
    {
      "cell_type": "code",
      "metadata": {
        "colab": {
          "base_uri": "https://localhost:8080/",
          "height": 204
        },
        "id": "2yqsApB90ciI",
        "outputId": "0ea0ba4d-f479-48fc-b441-9bea9170e4f6"
      },
      "source": [
        "pd.crosstab(index=df_with_years[\"price_group\"], columns=df_with_years[\"Genre\"])"
      ],
      "execution_count": null,
      "outputs": [
        {
          "output_type": "execute_result",
          "data": {
            "text/html": [
              "<div>\n",
              "<style scoped>\n",
              "    .dataframe tbody tr th:only-of-type {\n",
              "        vertical-align: middle;\n",
              "    }\n",
              "\n",
              "    .dataframe tbody tr th {\n",
              "        vertical-align: top;\n",
              "    }\n",
              "\n",
              "    .dataframe thead th {\n",
              "        text-align: right;\n",
              "    }\n",
              "</style>\n",
              "<table border=\"1\" class=\"dataframe\">\n",
              "  <thead>\n",
              "    <tr style=\"text-align: right;\">\n",
              "      <th>Genre</th>\n",
              "      <th>Fiction</th>\n",
              "      <th>Non Fiction</th>\n",
              "    </tr>\n",
              "    <tr>\n",
              "      <th>price_group</th>\n",
              "      <th></th>\n",
              "      <th></th>\n",
              "    </tr>\n",
              "  </thead>\n",
              "  <tbody>\n",
              "    <tr>\n",
              "      <th>0.0 - 21.0</th>\n",
              "      <td>77</td>\n",
              "      <td>95</td>\n",
              "    </tr>\n",
              "    <tr>\n",
              "      <th>21.0 - 42.0</th>\n",
              "      <td>3</td>\n",
              "      <td>14</td>\n",
              "    </tr>\n",
              "    <tr>\n",
              "      <th>42.0 - 63.0</th>\n",
              "      <td>0</td>\n",
              "      <td>9</td>\n",
              "    </tr>\n",
              "    <tr>\n",
              "      <th>84.0 - 105.0</th>\n",
              "      <td>0</td>\n",
              "      <td>1</td>\n",
              "    </tr>\n",
              "  </tbody>\n",
              "</table>\n",
              "</div>"
            ],
            "text/plain": [
              "Genre         Fiction  Non Fiction\n",
              "price_group                       \n",
              "0.0 - 21.0         77           95\n",
              "21.0 - 42.0         3           14\n",
              "42.0 - 63.0         0            9\n",
              "84.0 - 105.0        0            1"
            ]
          },
          "metadata": {
            "tags": []
          },
          "execution_count": 247
        }
      ]
    },
    {
      "cell_type": "code",
      "metadata": {
        "colab": {
          "base_uri": "https://localhost:8080/",
          "height": 296
        },
        "id": "G1h1saKH0DzL",
        "outputId": "7bcd8c2f-aaa7-44dd-aec5-33a19a2df9f9"
      },
      "source": [
        "fig, ax = plt.subplots()\n",
        "grouped_by_year_genre = df_with_years.groupby([\"price_group\", \"Genre\"])[\"Reviews\"].mean().unstack().plot(ax=ax)\n",
        "plt.title(\"Reviews (vendas) por grupo de preço\")\n",
        "plt.show()"
      ],
      "execution_count": null,
      "outputs": [
        {
          "output_type": "display_data",
          "data": {
            "image/png": "[encoded data removed]",
            "text/plain": [
              "<Figure size 432x288 with 1 Axes>"
            ]
          },
          "metadata": {
            "tags": [],
            "needs_background": "light"
          }
        }
      ]
    },
    {
      "cell_type": "markdown",
      "metadata": {
        "id": "luTOv2dM4ZJW"
      },
      "source": [
        "Se formos comparar agora usando a avaliação de usuários"
      ]
    },
    {
      "cell_type": "code",
      "metadata": {
        "colab": {
          "base_uri": "https://localhost:8080/",
          "height": 295
        },
        "id": "6MG7hFSh4d6L",
        "outputId": "74e6ef89-4b68-4853-92bb-867c0849ee1a"
      },
      "source": [
        "fig, ax = plt.subplots()\n",
        "grouped_by_year_genre = df_with_years.groupby([\"User Rating\", \"years_on_best_sellers\"])[\"Reviews\"].mean().unstack().plot(ax=ax)\n",
        "plt.title(\"Reviews (vendas) por grupo de preço\")\n",
        "plt.show()"
      ],
      "execution_count": null,
      "outputs": [
        {
          "output_type": "display_data",
          "data": {
            "image/png": "[encoded data removed]",
            "text/plain": [
              "<Figure size 432x288 with 1 Axes>"
            ]
          },
          "metadata": {
            "tags": [],
            "needs_background": "light"
          }
        }
      ]
    },
    {
      "cell_type": "code",
      "metadata": {
        "id": "KLKKR7FC4ifA"
      },
      "source": [
        "A nota não influência diretamente a quantidade de reviws (ou vendas)"
      ],
      "execution_count": null,
      "outputs": []
    },
    {
      "cell_type": "markdown",
      "metadata": {
        "id": "r4WRZsB50XF4"
      },
      "source": [
        "Vimos que o preço de fato influência na quantidade de reviews (vendas) se tratando **apenas do gênero de ficção**. Aqui fiz com as duplicatas removidas, agora irei fazer com duplicatas.\n",
        "\n"
      ]
    },
    {
      "cell_type": "code",
      "metadata": {
        "id": "catIfOXK1u6O"
      },
      "source": [
        "max_price = df_with_years_with_duplicates[\"Price\"].max()\n",
        "min_price = df_with_years_with_duplicates[\"Price\"].min()\n",
        "\n",
        "df_with_years_with_duplicates[\"price_group\"] = df_with_years_with_duplicates[\"Price\"].apply(lambda price: getPriceGroup(price, max_price, min_price, 5))"
      ],
      "execution_count": null,
      "outputs": []
    },
    {
      "cell_type": "code",
      "metadata": {
        "colab": {
          "base_uri": "https://localhost:8080/",
          "height": 235
        },
        "id": "lJtm13uF12D7",
        "outputId": "347ec6e8-16fc-46cc-a82e-061cb101554b"
      },
      "source": [
        "pd.crosstab(index=df_with_years_with_duplicates[\"price_group\"], columns=df_with_years_with_duplicates[\"Genre\"])"
      ],
      "execution_count": null,
      "outputs": [
        {
          "output_type": "execute_result",
          "data": {
            "text/html": [
              "<div>\n",
              "<style scoped>\n",
              "    .dataframe tbody tr th:only-of-type {\n",
              "        vertical-align: middle;\n",
              "    }\n",
              "\n",
              "    .dataframe tbody tr th {\n",
              "        vertical-align: top;\n",
              "    }\n",
              "\n",
              "    .dataframe thead th {\n",
              "        text-align: right;\n",
              "    }\n",
              "</style>\n",
              "<table border=\"1\" class=\"dataframe\">\n",
              "  <thead>\n",
              "    <tr style=\"text-align: right;\">\n",
              "      <th>Genre</th>\n",
              "      <th>Fiction</th>\n",
              "      <th>Non Fiction</th>\n",
              "    </tr>\n",
              "    <tr>\n",
              "      <th>price_group</th>\n",
              "      <th></th>\n",
              "      <th></th>\n",
              "    </tr>\n",
              "  </thead>\n",
              "  <tbody>\n",
              "    <tr>\n",
              "      <th>0.0 - 21.0</th>\n",
              "      <td>222</td>\n",
              "      <td>260</td>\n",
              "    </tr>\n",
              "    <tr>\n",
              "      <th>21.0 - 42.0</th>\n",
              "      <td>15</td>\n",
              "      <td>36</td>\n",
              "    </tr>\n",
              "    <tr>\n",
              "      <th>42.0 - 63.0</th>\n",
              "      <td>2</td>\n",
              "      <td>12</td>\n",
              "    </tr>\n",
              "    <tr>\n",
              "      <th>63.0 - 84.0</th>\n",
              "      <td>1</td>\n",
              "      <td>0</td>\n",
              "    </tr>\n",
              "    <tr>\n",
              "      <th>84.0 - 105.0</th>\n",
              "      <td>0</td>\n",
              "      <td>2</td>\n",
              "    </tr>\n",
              "  </tbody>\n",
              "</table>\n",
              "</div>"
            ],
            "text/plain": [
              "Genre         Fiction  Non Fiction\n",
              "price_group                       \n",
              "0.0 - 21.0        222          260\n",
              "21.0 - 42.0        15           36\n",
              "42.0 - 63.0         2           12\n",
              "63.0 - 84.0         1            0\n",
              "84.0 - 105.0        0            2"
            ]
          },
          "metadata": {
            "tags": []
          },
          "execution_count": 269
        }
      ]
    },
    {
      "cell_type": "code",
      "metadata": {
        "colab": {
          "base_uri": "https://localhost:8080/",
          "height": 235
        },
        "id": "02FNfFzv3K7b",
        "outputId": "f54f8a1c-9681-436a-dd6b-4054157829c5"
      },
      "source": [
        "pd.crosstab(index=df_with_years_with_duplicates[\"price_group\"], columns=df_with_years_with_duplicates[\"Genre\"])"
      ],
      "execution_count": null,
      "outputs": [
        {
          "output_type": "execute_result",
          "data": {
            "text/html": [
              "<div>\n",
              "<style scoped>\n",
              "    .dataframe tbody tr th:only-of-type {\n",
              "        vertical-align: middle;\n",
              "    }\n",
              "\n",
              "    .dataframe tbody tr th {\n",
              "        vertical-align: top;\n",
              "    }\n",
              "\n",
              "    .dataframe thead th {\n",
              "        text-align: right;\n",
              "    }\n",
              "</style>\n",
              "<table border=\"1\" class=\"dataframe\">\n",
              "  <thead>\n",
              "    <tr style=\"text-align: right;\">\n",
              "      <th>Genre</th>\n",
              "      <th>Fiction</th>\n",
              "      <th>Non Fiction</th>\n",
              "    </tr>\n",
              "    <tr>\n",
              "      <th>price_group</th>\n",
              "      <th></th>\n",
              "      <th></th>\n",
              "    </tr>\n",
              "  </thead>\n",
              "  <tbody>\n",
              "    <tr>\n",
              "      <th>0.0 - 21.0</th>\n",
              "      <td>222</td>\n",
              "      <td>260</td>\n",
              "    </tr>\n",
              "    <tr>\n",
              "      <th>21.0 - 42.0</th>\n",
              "      <td>15</td>\n",
              "      <td>36</td>\n",
              "    </tr>\n",
              "    <tr>\n",
              "      <th>42.0 - 63.0</th>\n",
              "      <td>2</td>\n",
              "      <td>12</td>\n",
              "    </tr>\n",
              "    <tr>\n",
              "      <th>63.0 - 84.0</th>\n",
              "      <td>1</td>\n",
              "      <td>0</td>\n",
              "    </tr>\n",
              "    <tr>\n",
              "      <th>84.0 - 105.0</th>\n",
              "      <td>0</td>\n",
              "      <td>2</td>\n",
              "    </tr>\n",
              "  </tbody>\n",
              "</table>\n",
              "</div>"
            ],
            "text/plain": [
              "Genre         Fiction  Non Fiction\n",
              "price_group                       \n",
              "0.0 - 21.0        222          260\n",
              "21.0 - 42.0        15           36\n",
              "42.0 - 63.0         2           12\n",
              "63.0 - 84.0         1            0\n",
              "84.0 - 105.0        0            2"
            ]
          },
          "metadata": {
            "tags": []
          },
          "execution_count": 273
        }
      ]
    },
    {
      "cell_type": "code",
      "metadata": {
        "colab": {
          "base_uri": "https://localhost:8080/",
          "height": 296
        },
        "id": "9R95UfuN14Th",
        "outputId": "d9409619-7cdc-41a8-ebf1-55750edf5565"
      },
      "source": [
        "fig, ax = plt.subplots()\n",
        "grouped_by_year_genre = df_with_years_with_duplicates.groupby([\"price_group\", \"Genre\"])[\"Reviews\"].mean().unstack().plot(ax=ax)\n",
        "plt.title(\"Reviews(vendas) por grupo de preço\")\n",
        "plt.show()"
      ],
      "execution_count": null,
      "outputs": [
        {
          "output_type": "display_data",
          "data": {
            "image/png": "[encoded data removed]",
            "text/plain": [
              "<Figure size 432x288 with 1 Axes>"
            ]
          },
          "metadata": {
            "tags": [],
            "needs_background": "light"
          }
        }
      ]
    },
    {
      "cell_type": "code",
      "metadata": {
        "colab": {
          "base_uri": "https://localhost:8080/",
          "height": 295
        },
        "id": "uPjyEWrD4FcT",
        "outputId": "d6022936-4f50-4748-e20a-e3e64d497382"
      },
      "source": [
        "fig, ax = plt.subplots()\n",
        "grouped_by_year_genre = df_with_years_with_duplicates.groupby([\"User Rating\", \"years_on_best_sellers\"])[\"Reviews\"].mean().unstack().plot(ax=ax)\n",
        "plt.title(\"Reviews(vendas) por grupo de preço\")\n",
        "plt.show()"
      ],
      "execution_count": null,
      "outputs": [
        {
          "output_type": "display_data",
          "data": {
            "image/png": "[encoded data removed]",
            "text/plain": [
              "<Figure size 432x288 with 1 Axes>"
            ]
          },
          "metadata": {
            "tags": [],
            "needs_background": "light"
          }
        }
      ]
    },
    {
      "cell_type": "code",
      "metadata": {
        "colab": {
          "base_uri": "https://localhost:8080/",
          "height": 111
        },
        "id": "xATfgkep19Li",
        "outputId": "73bcc6d2-6a07-443c-deda-8a02c3c407a6"
      },
      "source": [
        "# Por algum problemas, esses dois não estão exibindo no gráfico acima, mas ainda sim possuem uma quantidade de review baixo.\n",
        "df_with_years_with_duplicates[df_with_years_with_duplicates[\"Price\"] > 100]"
      ],
      "execution_count": null,
      "outputs": [
        {
          "output_type": "execute_result",
          "data": {
            "text/html": [
              "<div>\n",
              "<style scoped>\n",
              "    .dataframe tbody tr th:only-of-type {\n",
              "        vertical-align: middle;\n",
              "    }\n",
              "\n",
              "    .dataframe tbody tr th {\n",
              "        vertical-align: top;\n",
              "    }\n",
              "\n",
              "    .dataframe thead th {\n",
              "        text-align: right;\n",
              "    }\n",
              "</style>\n",
              "<table border=\"1\" class=\"dataframe\">\n",
              "  <thead>\n",
              "    <tr style=\"text-align: right;\">\n",
              "      <th></th>\n",
              "      <th>Name</th>\n",
              "      <th>Author</th>\n",
              "      <th>User Rating</th>\n",
              "      <th>Reviews</th>\n",
              "      <th>Price</th>\n",
              "      <th>Year</th>\n",
              "      <th>Genre</th>\n",
              "      <th>years_on_best_sellers</th>\n",
              "      <th>price_group</th>\n",
              "    </tr>\n",
              "  </thead>\n",
              "  <tbody>\n",
              "    <tr>\n",
              "      <th>69</th>\n",
              "      <td>Diagnostic and Statistical Manual of Mental Di...</td>\n",
              "      <td>American Psychiatric Association</td>\n",
              "      <td>4.5</td>\n",
              "      <td>6679</td>\n",
              "      <td>105</td>\n",
              "      <td>2013</td>\n",
              "      <td>Non Fiction</td>\n",
              "      <td>1</td>\n",
              "      <td>84.0 - 105.0</td>\n",
              "    </tr>\n",
              "    <tr>\n",
              "      <th>70</th>\n",
              "      <td>Diagnostic and Statistical Manual of Mental Di...</td>\n",
              "      <td>American Psychiatric Association</td>\n",
              "      <td>4.5</td>\n",
              "      <td>6679</td>\n",
              "      <td>105</td>\n",
              "      <td>2014</td>\n",
              "      <td>Non Fiction</td>\n",
              "      <td>2</td>\n",
              "      <td>84.0 - 105.0</td>\n",
              "    </tr>\n",
              "  </tbody>\n",
              "</table>\n",
              "</div>"
            ],
            "text/plain": [
              "                                                 Name  ...   price_group\n",
              "69  Diagnostic and Statistical Manual of Mental Di...  ...  84.0 - 105.0\n",
              "70  Diagnostic and Statistical Manual of Mental Di...  ...  84.0 - 105.0\n",
              "\n",
              "[2 rows x 9 columns]"
            ]
          },
          "metadata": {
            "tags": []
          },
          "execution_count": 275
        }
      ]
    },
    {
      "cell_type": "markdown",
      "metadata": {
        "id": "Xhj-KolZ3ZK2"
      },
      "source": [
        "Mesmo com duplicatas, podemos verificar que os livros de ficção mais baratos são mais vendidos, não dependendo apenas de sua nota."
      ]
    },
    {
      "cell_type": "markdown",
      "metadata": {
        "id": "eSKVRnWb41iQ"
      },
      "source": [
        "# Conclusão\n",
        "\n",
        "* Primeira hipótese: válida. Foi verificado que o número de vendas para os livros de ficção diminuiram conforme o tempo passou e foi ultrapassado pelos de não ficção em 2018.\n",
        "* Segunda hipótese: inválida. Por mais que as vendas diminuiram, os livros de ficção permaneceram mais conforme o tempo passou.\n",
        "* Terceira hipótese: inválida. Não foi constato nenhuma relação entre a nota do livro com seu número de vendas e permanência no top 50. "
      ]
    },
    {
      "cell_type": "code",
      "metadata": {
        "id": "axbAQ4aB6iwF"
      },
      "source": [
        ""
      ],
      "execution_count": null,
      "outputs": []
    }
  ]
}