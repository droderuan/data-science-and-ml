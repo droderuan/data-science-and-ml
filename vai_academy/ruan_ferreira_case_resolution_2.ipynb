{
  "nbformat": 4,
  "nbformat_minor": 0,
  "metadata": {
    "colab": {
      "name": "ruan_ferreira_case_resolution_2.ipynb",
      "provenance": [],
      "collapsed_sections": [],
      "toc_visible": true,
      "mount_file_id": "10PaExPcPHo_eQ4IIGJ44kR5FVyamH7uk",
      "authorship_tag": "ABX9TyPUq3UZZGubkfUGxPZ+aZgm",
      "include_colab_link": true
    },
    "kernelspec": {
      "name": "python3",
      "display_name": "Python 3"
    },
    "language_info": {
      "name": "python"
    }
  },
  "cells": [
    {
      "cell_type": "markdown",
      "metadata": {
        "id": "view-in-github",
        "colab_type": "text"
      },
      "source": [
        "<a href=\"https://colab.research.google.com/github/droderuan/data-science-and-ml/blob/main/vai_academy/ruan_ferreira_case_resolution_2.ipynb\" target=\"_parent\"><img src=\"https://colab.research.google.com/assets/colab-badge.svg\" alt=\"Open In Colab\"/></a>"
      ]
    },
    {
      "cell_type": "markdown",
      "metadata": {
        "id": "a_0HmCln7V24"
      },
      "source": [
        "## **Ruan Ferreira Guimarães**\n",
        "\n",
        "Olá! \n",
        "Ao ler o case pensei na possibilidade dos e-books e a venda dos kindle (com o aumento de vendas nos últimos anos) terem influênciado também a rentabilidade da empresa."
      ]
    },
    {
      "cell_type": "markdown",
      "metadata": {
        "id": "0zKTNpg48qJe"
      },
      "source": [
        "Irei usar datasets encontrados no kaggle e como são pesados, irei apenas compartilhar o link caso prefiram baixar. [Link para o dataframe](https://www.kaggle.com/bharadwaj6/kindle-reviews)"
      ]
    },
    {
      "cell_type": "code",
      "metadata": {
        "id": "gIzXE6xk81Tc"
      },
      "source": [
        "import pandas as pd\n",
        "import numpy as np\n",
        "import matplotlib.pyplot as plt\n",
        "from datetime import datetime\n",
        "\n",
        "%matplotlib inline"
      ],
      "execution_count": null,
      "outputs": []
    },
    {
      "cell_type": "code",
      "metadata": {
        "id": "TQChq3tF-zlG"
      },
      "source": [
        "df = pd.read_csv(\"/content/drive/MyDrive/Colab Notebooks/vai_academy/módulo 02/case_resolution/kindle_reviews.csv\", sep=\",\")"
      ],
      "execution_count": null,
      "outputs": []
    },
    {
      "cell_type": "code",
      "metadata": {
        "colab": {
          "base_uri": "https://localhost:8080/"
        },
        "id": "ocgiwb7w-7JV",
        "outputId": "e690bda7-ee6c-4598-d68a-57b6b4998da3"
      },
      "source": [
        "df.info()"
      ],
      "execution_count": null,
      "outputs": [
        {
          "output_type": "stream",
          "text": [
            "<class 'pandas.core.frame.DataFrame'>\n",
            "RangeIndex: 982619 entries, 0 to 982618\n",
            "Data columns (total 10 columns):\n",
            " #   Column          Non-Null Count   Dtype \n",
            "---  ------          --------------   ----- \n",
            " 0   Unnamed: 0      982619 non-null  int64 \n",
            " 1   asin            982619 non-null  object\n",
            " 2   helpful         982619 non-null  object\n",
            " 3   overall         982619 non-null  int64 \n",
            " 4   reviewText      982597 non-null  object\n",
            " 5   reviewTime      982619 non-null  object\n",
            " 6   reviewerID      982619 non-null  object\n",
            " 7   reviewerName    978803 non-null  object\n",
            " 8   summary         982618 non-null  object\n",
            " 9   unixReviewTime  982619 non-null  int64 \n",
            "dtypes: int64(3), object(7)\n",
            "memory usage: 75.0+ MB\n"
          ],
          "name": "stdout"
        }
      ]
    },
    {
      "cell_type": "code",
      "metadata": {
        "colab": {
          "base_uri": "https://localhost:8080/",
          "height": 204
        },
        "id": "Hb_oHPQBBxNy",
        "outputId": "a82346ea-ce15-45e9-bb82-2355e4400638"
      },
      "source": [
        "df.head()"
      ],
      "execution_count": null,
      "outputs": [
        {
          "output_type": "execute_result",
          "data": {
            "text/html": [
              "<div>\n",
              "<style scoped>\n",
              "    .dataframe tbody tr th:only-of-type {\n",
              "        vertical-align: middle;\n",
              "    }\n",
              "\n",
              "    .dataframe tbody tr th {\n",
              "        vertical-align: top;\n",
              "    }\n",
              "\n",
              "    .dataframe thead th {\n",
              "        text-align: right;\n",
              "    }\n",
              "</style>\n",
              "<table border=\"1\" class=\"dataframe\">\n",
              "  <thead>\n",
              "    <tr style=\"text-align: right;\">\n",
              "      <th></th>\n",
              "      <th>Unnamed: 0</th>\n",
              "      <th>asin</th>\n",
              "      <th>helpful</th>\n",
              "      <th>overall</th>\n",
              "      <th>reviewText</th>\n",
              "      <th>reviewTime</th>\n",
              "      <th>reviewerID</th>\n",
              "      <th>reviewerName</th>\n",
              "      <th>summary</th>\n",
              "      <th>unixReviewTime</th>\n",
              "      <th>year</th>\n",
              "    </tr>\n",
              "  </thead>\n",
              "  <tbody>\n",
              "    <tr>\n",
              "      <th>0</th>\n",
              "      <td>0</td>\n",
              "      <td>B000F83SZQ</td>\n",
              "      <td>[0, 0]</td>\n",
              "      <td>5</td>\n",
              "      <td>I enjoy vintage books and movies so I enjoyed ...</td>\n",
              "      <td>05 5, 2014</td>\n",
              "      <td>A1F6404F1VG29J</td>\n",
              "      <td>Avidreader</td>\n",
              "      <td>Nice vintage story</td>\n",
              "      <td>1399248000</td>\n",
              "      <td>2014</td>\n",
              "    </tr>\n",
              "    <tr>\n",
              "      <th>1</th>\n",
              "      <td>1</td>\n",
              "      <td>B000F83SZQ</td>\n",
              "      <td>[2, 2]</td>\n",
              "      <td>4</td>\n",
              "      <td>This book is a reissue of an old one; the auth...</td>\n",
              "      <td>01 6, 2014</td>\n",
              "      <td>AN0N05A9LIJEQ</td>\n",
              "      <td>critters</td>\n",
              "      <td>Different...</td>\n",
              "      <td>1388966400</td>\n",
              "      <td>2014</td>\n",
              "    </tr>\n",
              "    <tr>\n",
              "      <th>2</th>\n",
              "      <td>2</td>\n",
              "      <td>B000F83SZQ</td>\n",
              "      <td>[2, 2]</td>\n",
              "      <td>4</td>\n",
              "      <td>This was a fairly interesting read.  It had ol...</td>\n",
              "      <td>04 4, 2014</td>\n",
              "      <td>A795DMNCJILA6</td>\n",
              "      <td>dot</td>\n",
              "      <td>Oldie</td>\n",
              "      <td>1396569600</td>\n",
              "      <td>2014</td>\n",
              "    </tr>\n",
              "    <tr>\n",
              "      <th>3</th>\n",
              "      <td>3</td>\n",
              "      <td>B000F83SZQ</td>\n",
              "      <td>[1, 1]</td>\n",
              "      <td>5</td>\n",
              "      <td>I'd never read any of the Amy Brewster mysteri...</td>\n",
              "      <td>02 19, 2014</td>\n",
              "      <td>A1FV0SX13TWVXQ</td>\n",
              "      <td>Elaine H. Turley \"Montana Songbird\"</td>\n",
              "      <td>I really liked it.</td>\n",
              "      <td>1392768000</td>\n",
              "      <td>2014</td>\n",
              "    </tr>\n",
              "    <tr>\n",
              "      <th>4</th>\n",
              "      <td>4</td>\n",
              "      <td>B000F83SZQ</td>\n",
              "      <td>[0, 1]</td>\n",
              "      <td>4</td>\n",
              "      <td>If you like period pieces - clothing, lingo, y...</td>\n",
              "      <td>03 19, 2014</td>\n",
              "      <td>A3SPTOKDG7WBLN</td>\n",
              "      <td>Father Dowling Fan</td>\n",
              "      <td>Period Mystery</td>\n",
              "      <td>1395187200</td>\n",
              "      <td>2014</td>\n",
              "    </tr>\n",
              "  </tbody>\n",
              "</table>\n",
              "</div>"
            ],
            "text/plain": [
              "   Unnamed: 0        asin helpful  ...             summary unixReviewTime  year\n",
              "0           0  B000F83SZQ  [0, 0]  ...  Nice vintage story     1399248000  2014\n",
              "1           1  B000F83SZQ  [2, 2]  ...        Different...     1388966400  2014\n",
              "2           2  B000F83SZQ  [2, 2]  ...               Oldie     1396569600  2014\n",
              "3           3  B000F83SZQ  [1, 1]  ...  I really liked it.     1392768000  2014\n",
              "4           4  B000F83SZQ  [0, 1]  ...      Period Mystery     1395187200  2014\n",
              "\n",
              "[5 rows x 11 columns]"
            ]
          },
          "metadata": {
            "tags": []
          },
          "execution_count": 23
        }
      ]
    },
    {
      "cell_type": "code",
      "metadata": {
        "id": "nl6I_Ja4_Kh0"
      },
      "source": [
        "df[\"year\"] = df[\"unixReviewTime\"].apply(lambda time: datetime.utcfromtimestamp(time).year)"
      ],
      "execution_count": null,
      "outputs": []
    },
    {
      "cell_type": "code",
      "metadata": {
        "colab": {
          "base_uri": "https://localhost:8080/"
        },
        "id": "ni8kmm3BBjVu",
        "outputId": "5c414946-181c-4425-d6cc-33290a2a6dbc"
      },
      "source": [
        "df[\"year\"].max()"
      ],
      "execution_count": null,
      "outputs": [
        {
          "output_type": "execute_result",
          "data": {
            "text/plain": [
              "2014"
            ]
          },
          "metadata": {
            "tags": []
          },
          "execution_count": 21
        }
      ]
    },
    {
      "cell_type": "code",
      "metadata": {
        "colab": {
          "base_uri": "https://localhost:8080/",
          "height": 296
        },
        "id": "5uObtEc3AJES",
        "outputId": "a42b2177-d356-48d0-d955-da4803f29117"
      },
      "source": [
        "df.groupby(\"year\")[\"unixReviewTime\"].count().plot()"
      ],
      "execution_count": null,
      "outputs": [
        {
          "output_type": "execute_result",
          "data": {
            "text/plain": [
              "<matplotlib.axes._subplots.AxesSubplot at 0x7fd2e68ad4d0>"
            ]
          },
          "metadata": {
            "tags": []
          },
          "execution_count": 20
        },
        {
          "output_type": "display_data",
          "data": {
            "image/png": "[encoded data removed]",
            "text/plain": [
              "<Figure size 432x288 with 1 Axes>"
            ]
          },
          "metadata": {
            "tags": [],
            "needs_background": "light"
          }
        }
      ]
    },
    {
      "cell_type": "markdown",
      "metadata": {
        "id": "XiHFeFeiBX8Z"
      },
      "source": [
        "Infelizmente por conta do tempo não consegui realizar mais análises, porém com esse gráfico simples podemos verificar que o número de análises em e-books lidos pelo kindle aumentaram principalmente entre 2012 e 2013. Isso indica fortemente que alguns usuários passaram a comprar certos livros na midia digital. Isso não implica, por exemplo que são livro de ficção ou que esse gráfico continuou tendo algum aumento entre 2015 e 2019. "
      ]
    },
    {
      "cell_type": "code",
      "metadata": {
        "id": "-MMkXkk4CUuB"
      },
      "source": [
        ""
      ],
      "execution_count": null,
      "outputs": []
    }
  ]
}